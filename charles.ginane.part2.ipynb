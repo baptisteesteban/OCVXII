{
 "cells": [
  {
   "cell_type": "markdown",
   "metadata": {},
   "source": [
    "# Part 2 - Régularisation de problèmes mal posés"
   ]
  },
  {
   "cell_type": "code",
   "execution_count": 1,
   "metadata": {},
   "outputs": [],
   "source": [
    "import numpy as np\n",
    "import matplotlib.pyplot as plt"
   ]
  },
  {
   "cell_type": "markdown",
   "metadata": {},
   "source": [
    "## Question 2.9"
   ]
  },
  {
   "cell_type": "markdown",
   "metadata": {},
   "source": [
    "### Principe\n",
    "\n",
    "#### Regression linéraire - idée principale\n",
    "\n",
    "Soit deux ensembles $x$ et $y$ de taille $n$ pù $\\{x_1, x_2, ..., x_n\\}$ et $\\{y_1, y_2, ... , y_n\\}$.\n",
    "\n",
    "on souhaite construire une droite qui séparerait au mieux les deux ensembles $x$ et $y$ tout en diminuant les écarts entre les différentes valeurs des deux ensembles.\n",
    "\n",
    "La méthode des moindres carrées nous permet d'obtenir une droite d'équation du type $y = ax + b$. Le but est d'effectuer un ajustement linéaire afin de minimiser l'écart entre la droite trouver et les éléments des deux ensembles.\n",
    "\n",
    "Dans un premier temps, nous allons tracer une droite approximative. Nous allons calculer la somme des erreurs (SCE) entre les éléments et la droite approximative défini auparavant. Une erreur notée $\\epsilon$ (aussi appellée résidu) est l'écart entre la valeur réelle de l'élement et la valuer théorique de l'élément (la valeur de l'élément sur la droite).\n",
    "\n",
    "$$\n",
    "SCE = \\sum_{i = 0}^{n}{(y_i - (ax_i + b))^2}\n",
    "$$\n",
    "\n",
    "Afin d'obtenir la droite pour séparer nos éléments, il faut trouver les valeurs de $a$ et de $b$ à l'aide de la formule de la SCE.\n",
    "\n",
    "#### Démonstration\n",
    "\n",
    "**Cherchons b**\n",
    "\n",
    "On a $$SCE = \\sum_{i = 0}^{n}{(y_i - (ax_i + b))^2} = \\sum_{i = 0}^{n}{(-ax_i - b + y_i)^2}$$\n",
    "\n",
    "Nous calculons la dérivée partielle en fonction de $b$. Nous considérons $a$ comme une constante\n",
    "\n",
    "$$\n",
    "\\frac{\\partial{SCE}}{\\partial{b}} = 0 \\iff -2 \\sum_{i = 0}^{n}{(-ax_i - b + y_i)} = 0\n",
    "$$\n",
    "\n",
    "Nous séparons les deux termes de la somme\n",
    "\n",
    "$$\n",
    "\\iff \\sum_{i = 0}^{n}{(-ax_i - b)} + \\sum_{i = 0}^{n}{y_i} = 0\\\\\n",
    "\\iff \\sum_{i = 0}^{n}{(-ax_i)} - \\sum_{i = 0}^{n}{b} + \\sum_{i = 0}^{n}{y_i} = 0\\\\\n",
    "\\iff \\sum_{i = 0}^{n}{(-ax_i)} - nb + \\sum_{i = 0}^{n}{y_i} = 0\\\\\n",
    "\\iff -nb = a\\sum_{i=0}^{n}{x_i} - \\sum_{i = 0}^{n}{y_i}\\\\\n",
    "\\iff b = -a\\frac{\\sum{x_i}}{n} + \\frac{\\sum{y_i}}{n}\n",
    "$$\n",
    "\n",
    "On sait que $\\frac{\\sum{x_i}}{n}$ équivaut à la moyenne de x donc $\\frac{\\sum{x_i}}{n} = \\overline{x}$. De même pour $\\frac{\\sum{y_i}}{n} = \\overline{y}$. Donc\n",
    "\n",
    "$$\n",
    "b = -a\\overline{x} + \\overline{y}\n",
    "$$\n",
    "\n",
    "**Cherchons a**\n",
    "\n",
    "Avant de calculer la dérivée partielle de $SCE$ en fonction de $a$, nous allons remplacer $b$ dans l'expression de $SCE$\n",
    "\n",
    "$$\n",
    "SCE = \\sum_{i = 0}^{n}{(-ax_i + a\\overline{x} - \\overline{y} + y_i)^2}\\\\\n",
    "SCE = \\sum_{i = 0}^{n}{(-a(x_i - \\overline{x}) + (y_i - \\overline{y}))^2}\n",
    "$$\n",
    "\n",
    "On reconnait une identité remarquable du type $(a-b)^2 = a^2 - 2ab + b^2$\n",
    "\n",
    "$$\n",
    "SCE = \\sum_{i=0}^{n}({a^2(x_i - \\overline{x})^2}) + 2\\sum_{i=0}^{n}({-a(x_i - \\overline{x})(y_i - \\overline{y})}) + \\sum_{i=0}^{n}(y_i - \\overline{y})^2\n",
    "$$\n",
    "\n",
    "On résoud la dérivée partielle de la $SCE$ en fonction de $a$ telle que $\\frac{\\partial{SCE}}{\\partial{a}} = 0$\n",
    "\n",
    "$$\n",
    "\\iff \\sum_{i=0}^{n}({2a(x_i - \\overline{x})^2}) - 2 \\sum_{i=0}^{n}({(x_i - \\overline{x})(y_i - \\overline{y})})\\\\\n",
    "\\iff a = \\frac{2\\sum_{i=0}^{n}({(x_i - \\overline{x})(y_i - \\overline{y})}}{2\\sum_{i=0}^{n}({(x_i - \\overline{x})^2})}\\\\\n",
    "$$\n",
    "\n",
    "Or $\\sum_{i=0}^{n}({(x_i - \\overline{x})(y_i - \\overline{y})} = \\sigma_{xy}$ et $\\sum_{i=0}^{n}({(x_i - \\overline{x})} = \\sigma_x$ donc\n",
    "\n",
    "$$\n",
    "a = \\frac{\\sigma_{xy}}{\\sigma_{x}^2}\n",
    "$$\n",
    "\n"
   ]
  },
  {
   "cell_type": "markdown",
   "metadata": {},
   "source": [
    "### "
   ]
  }
 ],
 "metadata": {
  "kernelspec": {
   "display_name": "Python 3",
   "language": "python",
   "name": "python3"
  },
  "language_info": {
   "codemirror_mode": {
    "name": "ipython",
    "version": 3
   },
   "file_extension": ".py",
   "mimetype": "text/x-python",
   "name": "python",
   "nbconvert_exporter": "python",
   "pygments_lexer": "ipython3",
   "version": "3.7.4"
  }
 },
 "nbformat": 4,
 "nbformat_minor": 4
}
