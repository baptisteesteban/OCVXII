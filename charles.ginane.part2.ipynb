{
 "cells": [
  {
   "cell_type": "markdown",
   "metadata": {},
   "source": [
    "# Part 2 - Régularisation de problèmes mal posés"
   ]
  },
  {
   "cell_type": "code",
   "execution_count": 1,
   "metadata": {},
   "outputs": [],
   "source": [
    "import numpy as np\n",
    "import matplotlib.pyplot as plt"
   ]
  },
  {
   "cell_type": "markdown",
   "metadata": {},
   "source": [
    "## Préambule\n",
    "\n",
    "### Un problème mal posé ?\n",
    "\n",
    "Qu'est-ce-qu'un problème mal posé ? Pour commencer, nous allons définir qu'est ce qu'un problème bien posé. Un problème ($P$) bien posé dit respecter les 3 conditions suivantes:\n",
    "* Une solution au problème $P$ existe\n",
    "* La solution est unique\n",
    "* La solution dépend continuellement de la donnée\n",
    "\n",
    "Un problème mal posé est un problème ($P$) qui ne respecte pas une des conditions situées au dessus. Il est donc difficile de trouver une solution aux problèmes mal posés avec les méthodes vues auparavant. Pour trouver une solution optimale à ce type de problème nous allons utiliser la méthode analytique des moindres carrés.\n",
    "Nous utiliserons aussi les méthodes de régularisation telles que LASSO ou Tikhonov."
   ]
  },
  {
   "cell_type": "markdown",
   "metadata": {},
   "source": [
    "## Question 2.9\n",
    "---"
   ]
  },
  {
   "cell_type": "markdown",
   "metadata": {},
   "source": [
    "### Principe\n",
    "\n",
    "#### Principe - cas général\n",
    "\n",
    "Le but de la résolution de la méthode analytique des moindres de carrés est de pouvoir trouver une solution permettant de trouver une relation entre des groupes différents en ajoutant de l'information dans ces données.[BV04]\n",
    "\n",
    "Plus en détails, on recherche le vecteur $y \\in \\mathbb{R}^N$ qui contient les éléments {$y_1, y_2, ..., y_n$} où $y_i \\in R$. Le vecteur $y$ résulte d'une corrélation des données de la matrice $X$ qui est une matrice $N \\times P$ où $P$ représente le nombre de paramètres des éléments $x$. Nous allons en déduire $y$ à l'aide de la formule suivante:\n",
    "$$\n",
    "y = X\\beta + \\epsilon\n",
    "$$\n",
    "\n",
    "où\n",
    "* $\\beta$ est vecteur de paramètre qui rajoute l'information dans les données X.\n",
    "* $\\epsilon$ qui représente les résidus (différence entre le point et la droite $y$) aussi appeler erreur de prédiction.\n",
    "\n",
    "On peut calculer la SSE (Sum of Squared Errors) qui représente la somme de tous les résidus.\n",
    "\n",
    "$$\n",
    "SSE(\\beta) = \\sum_{i}^{N}((y_i - x_i^T\\beta)^2)\\\\\n",
    "SSE(\\beta) = (y - X\\beta)^T(y - X\\beta)\\\\\n",
    "SSE(\\beta) = ||y - X\\beta||^2_2\n",
    "$$\n",
    "\n",
    "La $SSE$ va nous permettre d'appliquer des pénalités à nos données afin de trouver la solution optimale à notre problème.\n",
    "\n",
    "#### Exemple avec la régression linéaire à 2 dimensions\n",
    "\n",
    "Soit deux ensembles $E_1$ et $E_2$ de taille $n$ où $\\{x_1, x_2, ..., x_n\\}$ et $\\{y_1, y_2, ... , y_n\\}$. $E_1$ et $E_2$ représente des points dans un domaine à 2 dimensions.\n",
    "\n",
    "on souhaite construire une droite qui séparerait au mieux les deux ensembles $E_1$ et $E_2$.\n",
    "\n",
    "La méthode des moindres carrés nous permet d'obtenir une droite d'équation du type $y = ax + b$.\n",
    "\n",
    "Comme montrer au dessus, nous allons calculer la SSE de nos points. La SSE va nous permettre de retrouver les coefficients $a$ et $b$ ppur notre droite objectif $y$.\n",
    "Ci-dessous la SSE:\n",
    "\n",
    "$$\n",
    "SSE = \\sum_{i = 0}^{n}{(y_i - (ax_i + b))^2}\n",
    "$$\n",
    "\n",
    "Afin d'obtenir la droite pour séparer nos éléments, il faut trouver les valeurs de $a$ et de $b$ à l'aide de la formule de la $SSE$.\n",
    "\n",
    "#### Démonstration\n",
    "\n",
    "**Cherchons b**\n",
    "\n",
    "On a $$SCE = \\sum_{i = 0}^{n}{(y_i - (ax_i + b))^2} = \\sum_{i = 0}^{n}{(-ax_i - b + y_i)^2}$$\n",
    "\n",
    "Nous calculons la dérivée partielle en fonction de $b$. Nous considérons $a$ comme une constante\n",
    "\n",
    "$$\n",
    "\\frac{\\partial{SSE}}{\\partial{b}} = 0 \\iff -2 \\sum_{i = 0}^{n}{(-ax_i - b + y_i)} = 0\n",
    "$$\n",
    "\n",
    "Nous séparons les deux termes de la somme:\n",
    "\n",
    "$$\n",
    "\\iff \\sum_{i = 0}^{n}{(-ax_i - b)} + \\sum_{i = 0}^{n}{y_i} = 0\\\\\n",
    "\\iff \\sum_{i = 0}^{n}{(-ax_i)} - \\sum_{i = 0}^{n}{b} + \\sum_{i = 0}^{n}{y_i} = 0\\\\\n",
    "\\iff \\sum_{i = 0}^{n}{(-ax_i)} - nb + \\sum_{i = 0}^{n}{y_i} = 0\\\\\n",
    "\\iff -nb = a\\sum_{i=0}^{n}{x_i} - \\sum_{i = 0}^{n}{y_i}\\\\\n",
    "\\iff b = -a\\frac{\\sum{x_i}}{n} + \\frac{\\sum{y_i}}{n}\n",
    "$$\n",
    "\n",
    "On sait que $\\frac{\\sum{x_i}}{n}$ équivaut à la moyenne de x donc $\\frac{\\sum{x_i}}{n} = \\overline{x}$. De même pour $\\frac{\\sum{y_i}}{n} = \\overline{y}$. Donc:\n",
    "\n",
    "$$\n",
    "b = -a\\overline{x} + \\overline{y}\n",
    "$$\n",
    "\n",
    "**Cherchons a**\n",
    "\n",
    "Avant de calculer la dérivée partielle de $SSE$ en fonction de $a$, nous allons remplacer $b$ dans l'expression de $SSE$\n",
    "\n",
    "$$\n",
    "SSE = \\sum_{i = 0}^{n}{(-ax_i + a\\overline{x} - \\overline{y} + y_i)^2}\\\\\n",
    "SSE = \\sum_{i = 0}^{n}{(-a(x_i - \\overline{x}) + (y_i - \\overline{y}))^2}\n",
    "$$\n",
    "\n",
    "On reconnaît une identité remarquable du type $(a-b)^2 = a^2 - 2ab + b^2$\n",
    "\n",
    "$$\n",
    "SSE = \\sum_{i=0}^{n}({a^2(x_i - \\overline{x})^2}) + 2\\sum_{i=0}^{n}({-a(x_i - \\overline{x})(y_i - \\overline{y})}) + \\sum_{i=0}^{n}(y_i - \\overline{y})^2\n",
    "$$\n",
    "\n",
    "On résout la dérivée partielle de la $SCE$ en fonction de $a$ telle que $\\frac{\\partial{SCE}}{\\partial{a}} = 0$\n",
    "\n",
    "$$\n",
    "\\iff \\sum_{i=0}^{n}({2a(x_i - \\overline{x})^2}) - 2 \\sum_{i=0}^{n}({(x_i - \\overline{x})(y_i - \\overline{y})})\\\\\n",
    "\\iff a = \\frac{2\\sum_{i=0}^{n}({(x_i - \\overline{x})(y_i - \\overline{y})}}{2\\sum_{i=0}^{n}({(x_i - \\overline{x})^2})}\\\\\n",
    "$$\n",
    "\n",
    "Or $\\sum_{i=0}^{n}({(x_i - \\overline{x})(y_i - \\overline{y})} = \\sigma_{xy}$ et $\\sum_{i=0}^{n}({(x_i - \\overline{x})} = \\sigma_x$ donc\n",
    "\n",
    "$$\n",
    "a = \\frac{\\sigma_{xy}}{\\sigma_{x}^2}\n",
    "$$"
   ]
  },
  {
   "cell_type": "markdown",
   "metadata": {},
   "source": [
    "## Question 2.10\n",
    "---"
   ]
  },
  {
   "cell_type": "markdown",
   "metadata": {},
   "source": [
    "### Préambule\n",
    "\n",
    "Comme vu à la question 2.9, la méthode des moindres carrés permet de trouver une corrélation entre des ensembles différents. Nous avons vu la notion de $SSE$ comme étant la somme des résidus. Afin de pouvoir trouver la séparation optimale, il faut trouver un moyen de minimiser la $SSE$. Nous allons utiliser des méthodes de régularisation et de pénalité que nous allons appliquer sur la $SSE$. Au cours de cette question, nous allons présenter les méthodes de régularisation Tikhonov et de LASSO.\n",
    "\n",
    "On rappelle la $SSE$:\n",
    "\n",
    "$$\n",
    "SSE(\\beta) = ||y - X\\beta||^2_2\n",
    "$$\n",
    "\n",
    "où\n",
    "* $\\beta$ est notre ensemble\n",
    "* $y$ notre fonction objective\n",
    "* $X$ les points\n",
    "\n",
    "On définit une pénalité dans le domaine du machine learning (ML) par la minisation de la formule suivante:\n",
    "\n",
    "$$\n",
    "arg min \\ Pen(\\beta) = \\mathcal{L}(\\beta) + \\lambda \\Omega(x)\n",
    "$$\n",
    "\n",
    "où\n",
    "* $\\mathcal{L}(\\beta)$ est la fonction de regression (fonction perte en ML)\n",
    "* $\\lambda$ est le paramètre de régularisation\n",
    "* $\\Omega(\\beta)$ est la fonction de pénalité\n",
    "\n",
    "Les deux méthodes présentent en dessous utilisent deux fonctions de pénalité différentes avec laquelle nous pourrons trouver le vecteur $\\beta$ le plus optimal possible à notre problème.\n",
    "\n",
    "### Les méthodes\n",
    "#### Tikhonov\n",
    "\n",
    "Tikhonov (de son vrai non Andreï Nikolaïevitch Tikhonov) est un mathématicien russe. Il est connu pour avoir prouvé la régularisation qui porte son nom. Le but de cette régularisation est d'appliquer une régularisation $\\mathcal{L}_2$ comme fonction de pénalité. Cette régularisation s'appelle aussi Ridge[TiK43].\n",
    "\n",
    "$$\n",
    "Ridge(\\beta) = ||y-X\\beta||^{2}_{2} - \\lambda ||\\beta||^2_2\n",
    "$$\n",
    "\n",
    "Afin de pouvoir trouver le $\\beta$ minimal, il suffit de résoudre:\n",
    "\n",
    "$$\n",
    "\\frac{\\partial{Ridge}}{\\partial{\\beta}} = 0\n",
    "$$\n",
    "\n",
    "Ce qui nous donne:\n",
    "\n",
    "$$\n",
    "\\iff\\frac{\\partial{}}{\\partial{\\beta}} ((y - X\\beta)^T(y - X\\beta) + \\lambda\\beta^T\\beta) = 0\\\\\n",
    "\\iff\\frac{\\partial{}}{\\partial{\\beta}} (y^Ty - 2\\beta^TX^Ty + \\beta^TX^X\\beta + \\lambda\\beta^T\\beta) = 0\\\\\n",
    "\\iff -2X^Ty + 2X^TX\\beta + 2\\lambda\\beta = 0\\\\\n",
    "\\iff -X^Ty + (X^TX + \\lambda)\\beta = 0\\\\\n",
    "\\iff \\beta = \\frac{X^Ty}{X^TX + \\lambda}\n",
    "$$\n",
    "\n",
    "#### LASSO\n",
    "\n",
    "La méthode régularisation de LASSO permet d'appliquer une pénalité $||\\beta||_1$ à la méthode de régularisation ce qui donne:\n",
    "\n",
    "\n",
    "$$\n",
    "LASSO(\\beta) =||y-X\\beta||^{2}_{2} + \\lambda||\\beta||_1\n",
    "$$\n",
    "\n",
    "La fonction de pénalité est une régularisation $\\mathcal{L}_1$[Tib96].\n",
    "\n",
    "L'avantage d'utiliser la régularisation de LASSO est de l'utiliser dans le cas où $N < P$. La régularisation $\\mathcal{L}_1$ s'adapte mieux que la régularisation $\\mathcal{L}_2$ sur ce type de données. Hors il n'est pas adapté dans le cadre de fortes corrélations entre les variables ou si $P$ est très grand par rapport à $n$.\n",
    "\n",
    "Nous pouvons faire utiliser les deux régularisation en même temps en utilisant Elsatic NET[Hui03]."
   ]
  },
  {
   "cell_type": "markdown",
   "metadata": {},
   "source": [
    "## Réferences des questions 2.9 et 2.10\n",
    "---\n",
    "\n",
    "[^BV04] **Convex Optimization.**\n",
    "        Stephen Boyd and Lieven Vandenberghe.\n",
    "        *Cambridge University Press, New York, NY, USA* 2004.\n",
    "\n",
    "[^TiK43] **On the stability of inverse problems**\n",
    "    A. N. Tikhonov\n",
    "    *Doklady Akademii Nauk SSSR* vol. 39, no. 5, pp. 195–198, 1943.\n",
    "\n",
    "[^Tib96] **Regression shrinkage and selectionvia the lasso.**\n",
    "        R. Tibshirani.\n",
    "        *Journal ofthe Royal Statistical Society* Series B, 58(1):267–288, 1996.\n",
    "        \n",
    "[^Hui03] **Regularization and Variable Selection via theElastic Net**\n",
    "    Hui Zou and Trevor Hastie\n",
    "    *Department of Statistics, Stanford University*, 2003"
   ]
  },
  {
   "cell_type": "markdown",
   "metadata": {},
   "source": [
    "## Question 2.11\n",
    "---"
   ]
  },
  {
   "cell_type": "markdown",
   "metadata": {},
   "source": [
    "ci-dessous la classe qui permet d'utiliser la méthode des moindres carrées"
   ]
  },
  {
   "cell_type": "code",
   "execution_count": 2,
   "metadata": {},
   "outputs": [],
   "source": [
    "class least_square:\n",
    "    def __init__(self, X):\n",
    "        self.X = X\n",
    "        self.beta = np.zeros(X.shape[1])\n",
    "        self.eps = np.random.randn(X.shape[0])\n",
    "        \n",
    "    def run(self):\n",
    "        self.y = self.X.dot(self.beta) + self.eps \n",
    "        for i in range(self.y.shape[0]):\n",
    "            r = (self.y[i] - self.beta.dot(self.X[i,:]))\n",
    "            self.eps[i] = r**2\n",
    "        return self.y\n",
    "    \n",
    "    def error(self):\n",
    "        somme = 0\n",
    "        for i in range(self.y.shape[0]):\n",
    "            r = (self.y[i] - self.beta.dot(self.X[i,:]))\n",
    "            self.eps[i] = r\n",
    "            somme += r**2\n",
    "        print(\"sum: %f\" % (somme))\n",
    "        self.y = self.X.dot(self.beta) + self.eps\n",
    "        return self.y\n",
    "        \n",
    "    def compute_SSE(self):\n",
    "        return np.linalg.norm(self.y - self.X.dot(self.beta), ord=2)**2\n",
    "\n",
    "    def tikhonov_reg(self, alpha):\n",
    "        self.beta = np.linalg.inv(np.transpose(self.X).dot(self.X) + np.identity(self.X.shape[1]) * alpha).dot(np.transpose(self.X).dot(self.y))\n",
    "        self.y = self.X.dot(self.beta) + self.eps\n",
    "        return self.y\n"
   ]
  },
  {
   "cell_type": "code",
   "execution_count": 3,
   "metadata": {},
   "outputs": [
    {
     "name": "stdout",
     "output_type": "stream",
     "text": [
      "before: 8.88219239721786\n",
      "after: 36.236214\n",
      "after: 36.236214\n"
     ]
    },
    {
     "data": {
      "text/plain": [
       "<matplotlib.collections.PathCollection at 0x7f5d9efe0d50>"
      ]
     },
     "execution_count": 3,
     "metadata": {},
     "output_type": "execute_result"
    },
    {
     "data": {
      "image/png": "[encoded data removed]",
      "text/plain": [
       "<Figure size 432x288 with 1 Axes>"
      ]
     },
     "metadata": {
      "needs_background": "light"
     },
     "output_type": "display_data"
    }
   ],
   "source": [
    "n_features = 2\n",
    "n_features_info = 2\n",
    "n_samples = 5\n",
    "\n",
    "X = np.random.randn(n_samples, n_features)\n",
    "\n",
    "l = least_square(X)\n",
    "Y = l.run()\n",
    "\n",
    "print(\"before: %s\" % l.compute_SSE())\n",
    "\n",
    "# Plot\n",
    "fig = plt.figure()\n",
    "ax = fig.add_subplot(111)\n",
    "ax.scatter(X[:,0], X[:,1],c='r', marker='o')\n",
    "\n",
    "ax.scatter(X[:,0], Y,c='b', marker='x')\n",
    "\n",
    "#print(l.compute_SSE())\n",
    "\n",
    "after_reg = l.tikhonov_reg(0.1)\n",
    "print(\"after: %f\" % l.compute_SSE())\n",
    "\n",
    "after_reg = l.tikhonov_reg(0.1)\n",
    "print(\"after: %f\" % l.compute_SSE())\n",
    "\n",
    "ax.scatter(X[:,0], after_reg,c='orange', marker='x')"
   ]
  }
 ],
 "metadata": {
  "kernelspec": {
   "display_name": "Python 3",
   "language": "python",
   "name": "python3"
  },
  "language_info": {
   "codemirror_mode": {
    "name": "ipython",
    "version": 3
   },
   "file_extension": ".py",
   "mimetype": "text/x-python",
   "name": "python",
   "nbconvert_exporter": "python",
   "pygments_lexer": "ipython3",
   "version": "3.7.4"
  }
 },
 "nbformat": 4,
 "nbformat_minor": 4
}
