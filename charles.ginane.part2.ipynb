{
 "cells": [
  {
   "cell_type": "markdown",
   "metadata": {},
   "source": [
    "# Part 2 - Régularisation de problèmes mal posés"
   ]
  },
  {
   "cell_type": "code",
   "execution_count": 1,
   "metadata": {},
   "outputs": [],
   "source": [
    "import numpy as np\n",
    "import matplotlib.pyplot as plt"
   ]
  },
  {
   "cell_type": "markdown",
   "metadata": {},
   "source": [
    "## Préambule\n",
    "\n",
    "### Un problème mal posé ?\n",
    "\n",
    "Qu'est-ce-qu'un problème mal posé ? Pour commencer, nous allons définir qu'est ce qu'un problème bien posé. Un problème ($P$) bien posé dit respecter les 3 conditions suivantes:\n",
    "* Une solution au problème $P$ existe\n",
    "* La solution est unique\n",
    "* La solution dépend continuellement de la donnée\n",
    "\n",
    "Un problème mal posé est un problème ($P$) qui ne respecte pas une des conditions situées au dessus. Il est donc difficile de trouver une solution aux problèmes mal posés avec les méthodes vues auparavant. Pour trouver une solution optimale à ce type de problème nous allons utiliser la méthode analytique des moindres carrés.\n",
    "Nous utiliserons aussi les méthodes de régularisation telles que LASSO ou Tikhonov."
   ]
  },
  {
   "cell_type": "markdown",
   "metadata": {},
   "source": [
    "## Question 2.9\n",
    "---"
   ]
  },
  {
   "cell_type": "markdown",
   "metadata": {},
   "source": [
    "### Principe\n",
    "\n",
    "Le but de la résolution de la méthode analytique des moindres de carrés est de pouvoir trouver une solution permettant de trouver une relation entre des groupes différents en ajoutant de l'information dans ces données.[BV04]\n",
    "\n",
    "Plus en détails, on recherche le vecteur $y \\in \\mathbb{R}^N$ qui contient les éléments {$y_1, y_2, ..., y_n$} où $y_i \\in R$. Le vecteur $y$ résulte d'une corrélation des données de la matrice $X$ qui est une matrice $N \\times P$ où $P$ représente le nombre de paramètres des éléments $x$. Nous allons en déduire $y$ à l'aide de la formule suivante:\n",
    "$$\n",
    "y = X\\beta + \\epsilon\n",
    "$$\n",
    "\n",
    "où\n",
    "* $\\beta$ est vecteur de paramètre qui rajoute l'information dans les données X.\n",
    "* $\\epsilon$ qui représente les résidus (différence entre le point et la droite $y$) aussi appeler erreur de prédiction.\n",
    "\n",
    "On peut calculer la SSE (Sum of Squared Errors) qui représente la somme de tous les résidus.\n",
    "\n",
    "$$\n",
    "SSE(\\beta) = \\sum_{i}^{N}((y_i - x_i^T\\beta)^2)\\\\\n",
    "SSE(\\beta) = (y - X\\beta)^T(y - X\\beta)\\\\\n",
    "SSE(\\beta) = ||y - X\\beta||^2_2\n",
    "$$\n",
    "\n",
    "La $SSE$ va nous permettre d'appliquer des pénalités à nos données afin de trouver la solution optimale à notre problème.\n",
    "\n",
    "Cette méthode est utiliser dans le domaine du machine learning avec notamment $\\beta$ telle que les régresseurs et $\\epsilon$ les erreurs de prédiction de $y$. Cette méthode va permettre de trouver la meilleure solution en ajoutant une fonction de pénalité sur le $SSE$.\n"
   ]
  },
  {
   "cell_type": "markdown",
   "metadata": {},
   "source": [
    "## Question 2.10\n",
    "---"
   ]
  },
  {
   "cell_type": "markdown",
   "metadata": {},
   "source": [
    "### Préambule\n",
    "\n",
    "Comme vu à la question 2.9, la méthode des moindres carrés permet de trouver une corrélation entre des ensembles différents. Nous avons vu la notion de $SSE$ comme étant la somme des résidus. Afin de pouvoir trouver la séparation optimale, il faut trouver un moyen de minimiser la $SSE$. Nous allons utiliser des méthodes de régularisation et de pénalité que nous allons appliquer sur la $SSE$. Au cours de cette question, nous allons présenter les méthodes de régularisation Tikhonov et de LASSO.\n",
    "\n",
    "On rappelle la $SSE$:\n",
    "\n",
    "$$\n",
    "SSE(\\beta) = ||y - X\\beta||^2_2\n",
    "$$\n",
    "\n",
    "où\n",
    "* $\\beta$ est notre ensemble\n",
    "* $y$ notre fonction objective\n",
    "* $X$ les points\n",
    "\n",
    "On définit une pénalité dans le domaine du machine learning (ML) par la minisation de la formule suivante:\n",
    "\n",
    "$$\n",
    "arg min \\ Pen(\\beta) = \\mathcal{L}(\\beta) + \\lambda \\Omega(x)\n",
    "$$\n",
    "\n",
    "où\n",
    "* $\\mathcal{L}(\\beta)$ est la fonction de regression (fonction perte en ML)\n",
    "* $\\lambda$ est le paramètre de régularisation\n",
    "* $\\Omega(\\beta)$ est la fonction de pénalité\n",
    "\n",
    "Les deux méthodes présentent en dessous utilisent deux fonctions de pénalité différentes avec laquelle nous pourrons trouver le vecteur $\\beta$ le plus optimal possible à notre problème.\n",
    "\n",
    "### Les méthodes\n",
    "#### Tikhonov\n",
    "\n",
    "Tikhonov (de son vrai non Andreï Nikolaïevitch Tikhonov) est un mathématicien russe. Il est connu pour avoir prouvé la régularisation qui porte son nom. Le but de cette régularisation est d'appliquer une régularisation $\\mathcal{L}_2$ comme fonction de pénalité. Cette régularisation s'appelle aussi Ridge[TiK43].\n",
    "\n",
    "$$\n",
    "Ridge(\\beta) = ||y-X\\beta||^{2}_{2} - \\lambda ||\\beta||^2_2\n",
    "$$\n",
    "\n",
    "Afin de pouvoir trouver le $\\beta$ minimal, il suffit de résoudre:\n",
    "\n",
    "$$\n",
    "\\frac{\\partial{Ridge}}{\\partial{\\beta}} = 0\n",
    "$$\n",
    "\n",
    "Ce qui nous donne:\n",
    "\n",
    "$$\n",
    "\\iff\\frac{\\partial{}}{\\partial{\\beta}} ((y - X\\beta)^T(y - X\\beta) + \\lambda\\beta^T\\beta) = 0\\\\\n",
    "\\iff\\frac{\\partial{}}{\\partial{\\beta}} (y^Ty - 2\\beta^TX^Ty + \\beta^TX^X\\beta + \\lambda\\beta^T\\beta) = 0\\\\\n",
    "\\iff -2X^Ty + 2X^TX\\beta + 2\\lambda\\beta = 0\\\\\n",
    "\\iff -X^Ty + (X^TX + \\lambda)\\beta = 0\\\\\n",
    "\\iff \\beta = \\frac{X^Ty}{X^TX + \\lambda}\n",
    "$$\n",
    "\n",
    "#### LASSO\n",
    "\n",
    "La méthode régularisation de LASSO permet d'appliquer une pénalité $||\\beta||_1$ à la méthode de régularisation ce qui donne:\n",
    "\n",
    "\n",
    "$$\n",
    "LASSO(\\beta) =||y-X\\beta||^{2}_{2} + \\lambda||\\beta||_1\n",
    "$$\n",
    "\n",
    "La fonction de pénalité est une régularisation $\\mathcal{L}_1$[Tib96]. Cette méthode permet notamment de forcer les paramètres de $\\beta$ à être à 0 pour une meilleure régression.\n",
    "\n",
    "L'avantage d'utiliser la régularisation de LASSO est de l'utiliser dans le cas où $N < P$. La régularisation $\\mathcal{L}_1$ s'adapte mieux que la régularisation $\\mathcal{L}_2$ sur ce type de données. Hors il n'est pas adapté dans le cadre de fortes corrélations entre les variables ou si $P$ est très grand par rapport à $n$.\n",
    "\n",
    "\n",
    "Nous pouvons faire utiliser les deux régularisation en même temps en utilisant Elsatic NET[Hui03]."
   ]
  },
  {
   "cell_type": "markdown",
   "metadata": {},
   "source": [
    "## Réferences des questions 2.9 et 2.10\n",
    "---\n",
    "\n",
    "[^BV04] **Convex Optimization.**\n",
    "        Stephen Boyd and Lieven Vandenberghe.\n",
    "        *Cambridge University Press, New York, NY, USA* 2004.\n",
    "\n",
    "[^TiK43] **On the stability of inverse problems**\n",
    "    A. N. Tikhonov\n",
    "    *Doklady Akademii Nauk SSSR* vol. 39, no. 5, pp. 195–198, 1943.\n",
    "\n",
    "[^Tib96] **Regression shrinkage and selectionvia the lasso.**\n",
    "        R. Tibshirani.\n",
    "        *Journal ofthe Royal Statistical Society* Series B, 58(1):267–288, 1996.\n",
    "        \n",
    "[^Hui03] **Regularization and Variable Selection via theElastic Net**\n",
    "    Hui Zou and Trevor Hastie\n",
    "    *Department of Statistics, Stanford University*, 2003"
   ]
  },
  {
   "cell_type": "markdown",
   "metadata": {},
   "source": [
    "## Question 2.11\n",
    "---"
   ]
  },
  {
   "cell_type": "markdown",
   "metadata": {},
   "source": [
    "ci-dessous la classe qui permet d'utiliser la méthode des moindres carrées"
   ]
  },
  {
   "cell_type": "code",
   "execution_count": 2,
   "metadata": {},
   "outputs": [
    {
     "name": "stdout",
     "output_type": "stream",
     "text": [
      "epoch: 1/100\n",
      "SSE = 0.995216\n",
      "epoch: 2/100\n",
      "SSE = 0.993344\n",
      "epoch: 3/100\n",
      "SSE = 0.991477\n",
      "epoch: 4/100\n",
      "SSE = 0.989612\n",
      "epoch: 5/100\n",
      "SSE = 0.987752\n",
      "\n",
      "...\n",
      "\n",
      "epoch: 96/100\n",
      "SSE = 0.832275\n",
      "epoch: 97/100\n",
      "SSE = 0.830710\n",
      "epoch: 98/100\n",
      "SSE = 0.829148\n",
      "epoch: 99/100\n",
      "SSE = 0.827589\n",
      "epoch: 100/100\n",
      "SSE = 0.826033\n",
      "(100, 1)\n"
     ]
    },
    {
     "data": {
      "image/png": "[encoded data removed]",
      "text/plain": [
       "<Figure size 1512x432 with 2 Axes>"
      ]
     },
     "metadata": {
      "needs_background": "light"
     },
     "output_type": "display_data"
    }
   ],
   "source": [
    "import ocvx\n",
    "\n",
    "n_features = 1   # = P (number of features)\n",
    "n_samples = 100  # = N (number of elements)\n",
    "\n",
    "\n",
    "# Create dataset\n",
    "X = np.random.randn(n_samples, n_features)\n",
    "Y = np.random.randn(n_samples)\n",
    "\n",
    "# Create the least_square and doing a L2 regression\n",
    "l = ocvx.LeastSquare(X)\n",
    "l.tikhonov_reg(0.1, y=Y, max_iter=100)\n",
    "\n",
    "\n",
    "# plot results\n",
    "l.plot(Y)"
   ]
  },
  {
   "cell_type": "markdown",
   "metadata": {},
   "source": [
    "On observe que la SSE diminue au long des epochs. Le deuxième plot nous montre la droite qui sépare nos deux éléments, cela nous permet d'avoir l'hyperplan d'appui pour nos éléments."
   ]
  }
 ],
 "metadata": {
  "kernelspec": {
   "display_name": "Python 3",
   "language": "python",
   "name": "python3"
  },
  "language_info": {
   "codemirror_mode": {
    "name": "ipython",
    "version": 3
   },
   "file_extension": ".py",
   "mimetype": "text/x-python",
   "name": "python",
   "nbconvert_exporter": "python",
   "pygments_lexer": "ipython3",
   "version": "3.7.4"
  }
 },
 "nbformat": 4,
 "nbformat_minor": 4
}
