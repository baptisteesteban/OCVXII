{
 "cells": [
  {
   "cell_type": "code",
   "execution_count": 7,
   "metadata": {},
   "outputs": [],
   "source": [
    "import numpy as np\n",
    "import random\n",
    "import matplotlib.pyplot as plt\n",
    "from sklearn.svm import SVC\n",
    "from sklearn.metrics import accuracy_score"
   ]
  },
  {
   "cell_type": "code",
   "execution_count": 8,
   "metadata": {},
   "outputs": [],
   "source": [
    "class SMO:\n",
    "    def __init__(self, kernel=None, max_iter=10000, epsilon=0.001, C=1.0):\n",
    "        if (kernel == None):\n",
    "            self.kernel = lambda x1, x2 : np.dot(x1, x2.T)\n",
    "        else:\n",
    "            self.kernel = kernel\n",
    "        self.epsilon = epsilon\n",
    "        self.C = C\n",
    "        self.max_iter = max_iter\n",
    "        self.b = None\n",
    "        self.w = None\n",
    "    \n",
    "    '''\n",
    "    the function that predict the class of an sample thanks to the normal vector w and b\n",
    "    '''\n",
    "    def h(self, X):\n",
    "        return np.sign(np.dot(self.w, X.T) - self.b).astype(int)\n",
    "    \n",
    "    '''\n",
    "    the function that computes the w vector thanks to Lagrange multipliers alpha\n",
    "    '''\n",
    "    def compute_w(self, alphas, X, y):\n",
    "        w = 0\n",
    "        for i in range(X.shape[0]):\n",
    "            w += alphas[i] * y[i] * X[i,:]\n",
    "        self.w = w\n",
    "    \n",
    "    def randexclusif(self, mn, mx, excl):\n",
    "        res = random.randint(mn, mx)\n",
    "        while (res == excl):\n",
    "            res = random.randint(mn, mx)\n",
    "        return res\n",
    "    \n",
    "    def fit(self, X, y):\n",
    "        self.b = 0\n",
    "        size = (X.shape[0])\n",
    "        alphas = np.zeros((size))\n",
    "        for count in range(self.max_iter):\n",
    "            prev_alphas = np.copy(alphas)\n",
    "            for i in range(size):\n",
    "                y1 = y[i]\n",
    "                x1 = X[i, :]\n",
    "                alpha1 = alphas[i]\n",
    "                \n",
    "                self.compute_w(alphas, X, y)\n",
    "                Ei = self.h(x1) - y1\n",
    "                if ((Ei*y1 < -self.epsilon and alpha1 < self.C) or (Ei*y1 > self.epsilon and alpha1 > 0)):\n",
    "                    #selection of j != i for a simplified SMO method\n",
    "                    j = self.randexclusif(0, size - 1, i)\n",
    "                    y2 = y[j]\n",
    "                    x2 = X[j, :]\n",
    "                    alpha2 = alphas[j]\n",
    "                    \n",
    "                    Ej = self.h(x2) - y2\n",
    "                    \n",
    "                    if (y1 == y2):\n",
    "                        L = max(0, alpha2 + alpha1 - self.C)\n",
    "                        H = min(self.C, alpha2 + alpha1)\n",
    "                    else:\n",
    "                        L = max(0, alpha2 - alpha1)\n",
    "                        H = min(self.C, self.C + alpha2 - alpha1)\n",
    "                    \n",
    "                    if (L == H):\n",
    "                        continue\n",
    "                    \n",
    "                    nu = self.kernel(x1, x1) + self.kernel(x2, x2) - 2 * self.kernel(x1, x2)\n",
    "                    \n",
    "                    if (nu < 0):\n",
    "                        print(\"nu < 0\")\n",
    "                        print(nu)\n",
    "                        continue\n",
    "                \n",
    "                    a2 = alpha2 + float(y2 * (Ei - Ej)) / nu\n",
    "                    if (a2 > H):\n",
    "                        a2 = H\n",
    "                    elif (a2 < L):\n",
    "                        a2 = L\n",
    "                    alphas[j] = a2\n",
    "                    \n",
    "                    if (abs(a2 - alpha2) < self.epsilon):\n",
    "                        continue\n",
    "                    \n",
    "                    alphas[i] = alpha1 + y1 * y2 * (alpha2 - a2)\n",
    "                    b1 = Ei + y1 * (alphas[i] - alpha1) * self.kernel(x1, x1) + y2 * (a2 - alpha2) * self.kernel(x1, x2) + self.b\n",
    "                    b2 = Ej + y1 * (alphas[i] - alpha1) * self.kernel(x1, x2) + y2 * (a2 - alpha2) * self.kernel(x2, x2) + self.b\n",
    "                    \n",
    "                    if (alphas[i] > 0 and alphas[i] < self.C):\n",
    "                        self.b = b1\n",
    "                    elif (a2 > 0 and a2 < self.C):\n",
    "                        self.b = b2\n",
    "                    else:\n",
    "                        self.b = (b1 + b2) / 2\n",
    "            diff = np.linalg.norm(alphas - prev_alphas)\n",
    "            if diff < self.epsilon:\n",
    "                break\n",
    "        self.compute_w(alphas, X, y)\n",
    "        return alphas\n",
    "\n",
    "    def predict(self, X):\n",
    "        return self.h(X)"
   ]
  },
  {
   "cell_type": "code",
   "execution_count": 9,
   "metadata": {},
   "outputs": [],
   "source": [
    "from sklearn.datasets import make_classification\n",
    "from sklearn.utils import shuffle\n",
    "\n",
    "def generate_linear_problem(size, percent=0.2):\n",
    "    separable = False\n",
    "    while not separable:\n",
    "        samples = make_classification(n_samples=size, n_features=2, n_redundant=0, n_informative=1, n_clusters_per_class=1, flip_y=-1)\n",
    "        red = samples[0][samples[1] == 0]\n",
    "        blue = samples[0][samples[1] == 1]\n",
    "        separable = any([red[:, k].max() < blue[:, k].min() or red[:, k].min() > blue[:, k].max() for k in range(2)])\n",
    "    red = np.array([np.append(red[i], -1) for i in range(len(red))])\n",
    "    blue = np.array([np.append(blue[i], 1) for i in range(len(blue))])\n",
    "    perc = int(percent * size)\n",
    "    trainr = red[:perc]\n",
    "    testr = red[perc:]\n",
    "    trainb = blue[:perc]\n",
    "    testb = blue[perc:]\n",
    "    res = np.append(trainr, trainb, axis=0)\n",
    "    res = shuffle(res)\n",
    "    res2 = np.append(testr, testb, axis=0)\n",
    "    res2 = shuffle(res)\n",
    "    X = res[:,:2]\n",
    "    y = res[:,-1]\n",
    "    Xtest = res2[:,:2]\n",
    "    ytest = res2[:,-1]\n",
    "    return X, y, Xtest, ytest"
   ]
  },
  {
   "cell_type": "code",
   "execution_count": 10,
   "metadata": {},
   "outputs": [],
   "source": [
    "X, y, Xtest, ytest = generate_linear_problem(500)"
   ]
  },
  {
   "cell_type": "code",
   "execution_count": 11,
   "metadata": {},
   "outputs": [
    {
     "name": "stderr",
     "output_type": "stream",
     "text": [
      "No handles with labels found to put in legend.\n"
     ]
    },
    {
     "name": "stdout",
     "output_type": "stream",
     "text": [
      "accuracy train:\t1.000\n",
      "accuracy test:\t1.000\n"
     ]
    },
    {
     "data": {
      "image/png": "[encoded data removed]",
      "text/plain": [
       "<Figure size 432x288 with 1 Axes>"
      ]
     },
     "metadata": {
      "needs_background": "light"
     },
     "output_type": "display_data"
    }
   ],
   "source": [
    "model = SVC(kernel='linear', C = 1.0)\n",
    "# Fit model\n",
    "alphas = model.fit(X, y)\n",
    "# Make prediction\n",
    "y_hat = model.predict(X)\n",
    "y_hattest = model.predict(Xtest)\n",
    "# Calculate accuracy\n",
    "acc = accuracy_score(y, y_hat)\n",
    "acc2 = accuracy_score(ytest, y_hattest)\n",
    "print(\"accuracy train:\\t%.3f\" % (acc))\n",
    "print(\"accuracy test:\\t%.3f\" % (acc2))\n",
    "w = model.coef_[0]\n",
    "\n",
    "\n",
    "xx = np.linspace(-5,5)\n",
    "yy = - 1 * (xx*w[0] + model.intercept_) / w[1]\n",
    "yy1 = - 1 * (xx*w[0] + model.intercept_ - 1) / w[1]\n",
    "yy2 = - 1 * (xx*w[0] + model.intercept_ + 1) / w[1]\n",
    "h0 = plt.plot(xx, yy, 'k--')\n",
    "h1 = plt.plot(xx, yy1, 'k-')\n",
    "h2 = plt.plot(xx, yy2, 'k-')\n",
    "\n",
    "plt.scatter(X[:, 0], X[:, 1], c = y)\n",
    "plt.scatter(Xtest[:, 0], Xtest[:, 1], c = ytest)\n",
    "plt.legend()\n",
    "plt.show()"
   ]
  },
  {
   "cell_type": "code",
   "execution_count": 12,
   "metadata": {},
   "outputs": [
    {
     "name": "stderr",
     "output_type": "stream",
     "text": [
      "No handles with labels found to put in legend.\n"
     ]
    },
    {
     "name": "stdout",
     "output_type": "stream",
     "text": [
      "accuracy train:\t1.000\n",
      "accuracy test:\t1.000\n",
      "1.0\n",
      "[2.35727707 0.65474966]\n"
     ]
    },
    {
     "data": {
      "image/png": "[encoded data removed]",
      "text/plain": [
       "<Figure size 432x288 with 1 Axes>"
      ]
     },
     "metadata": {
      "needs_background": "light"
     },
     "output_type": "display_data"
    }
   ],
   "source": [
    "model = SMO()\n",
    "# Fit model\n",
    "alphas = model.fit(X, y)\n",
    "# Make prediction\n",
    "y_hat = model.predict(X)\n",
    "y_hattest = model.predict(Xtest)\n",
    "# Calculate accuracy\n",
    "acc = accuracy_score(y, y_hat)\n",
    "acc2 = accuracy_score(ytest, y_hattest)\n",
    "print(\"accuracy train:\\t%.3f\" % (acc))\n",
    "print(\"accuracy test:\\t%.3f\" % (acc2))\n",
    "print(accuracy_score(ytest, y_hattest))\n",
    "w = model.w\n",
    "print(w)\n",
    "\n",
    "xx = np.linspace(-5,5)\n",
    "yy = - 1 * (xx*w[0] + model.b) / w[1]\n",
    "yy1 = - 1 * (xx*w[0] + model.b - 1) / w[1]\n",
    "yy2 = - 1 * (xx*w[0] + model.b + 1) / w[1]\n",
    "h0 = plt.plot(xx, yy, 'k--')\n",
    "h1 = plt.plot(xx, yy1, 'k-')\n",
    "h2 = plt.plot(xx, yy2, 'k-')\n",
    "\n",
    "\n",
    "plt.scatter(X[:, 0], X[:, 1], c = y)\n",
    "plt.scatter(Xtest[:, 0], Xtest[:, 1], c = ytest)\n",
    "plt.legend()\n",
    "plt.show()"
   ]
  }
 ],
 "metadata": {
  "kernelspec": {
   "display_name": "Python 3",
   "language": "python",
   "name": "python3"
  },
  "language_info": {
   "codemirror_mode": {
    "name": "ipython",
    "version": 3
   },
   "file_extension": ".py",
   "mimetype": "text/x-python",
   "name": "python",
   "nbconvert_exporter": "python",
   "pygments_lexer": "ipython3",
   "version": "3.7.3"
  }
 },
 "nbformat": 4,
 "nbformat_minor": 2
}
