{
 "cells": [
  {
   "cell_type": "code",
   "execution_count": 1,
   "metadata": {},
   "outputs": [],
   "source": [
    "import math\n",
    "import numpy as np\n",
    "from matplotlib import pyplot as plt\n",
    "import seaborn as sns\n",
    "import pandas as pd\n",
    "import warnings"
   ]
  },
  {
   "cell_type": "code",
   "execution_count": 2,
   "metadata": {},
   "outputs": [],
   "source": [
    "class function:\n",
    "    def __init__(self, dim, value, grad, hessian):\n",
    "        self.dim = dim\n",
    "        self.value = value\n",
    "        self.grad = grad\n",
    "        self.hessian = hessian"
   ]
  },
  {
   "cell_type": "code",
   "execution_count": 3,
   "metadata": {},
   "outputs": [],
   "source": [
    "class probleme:\n",
    "    def __init__(self, f):\n",
    "        self.f = f\n",
    "        \n",
    "    def __call__(self, x):\n",
    "        return self.f.value(x)"
   ]
  },
  {
   "cell_type": "code",
   "execution_count": 4,
   "metadata": {},
   "outputs": [],
   "source": [
    "f_d = {\n",
    "    \"dim\": 1,\n",
    "    \"value\": lambda x, gamma=1: gamma*x[0]**2 - 5 * x[0] + 3,\n",
    "    \"grad\": lambda x, gamma=1: np.array([2*x[0]*gamma - 5]),\n",
    "    \"hessian\": lambda x, gamma=1: np.diag([2*gamma])\n",
    "}\n",
    "f_1 = function(**f_d)\n",
    "P = probleme(f_1)"
   ]
  },
  {
   "cell_type": "code",
   "execution_count": 5,
   "metadata": {},
   "outputs": [],
   "source": [
    "f_2_d = {\n",
    "    \"dim\": 2,\n",
    "    \"value\": lambda x, gamma=1: x[0]**2 + gamma*x[1]**2,\n",
    "    \"grad\": lambda x, gamma=1: np.array([2*x[0], 2*gamma*x[1]]),\n",
    "    \"hessian\": lambda x, gamma=1: np.diag([2, 2*gamma])\n",
    "}\n",
    "\n",
    "f_2 = function(**f_2_d)"
   ]
  },
  {
   "cell_type": "markdown",
   "metadata": {},
   "source": [
    "# Méthode de Newton"
   ]
  },
  {
   "cell_type": "code",
   "execution_count": 6,
   "metadata": {},
   "outputs": [],
   "source": [
    "def backtracking(f, x, alpha=0.1, beta=0.8):\n",
    "    t = 1\n",
    "    desc_d = -1 * f.grad(x)\n",
    "    while f.value(x + desc_d * t) > f.value(x) + alpha * t * np.dot(f.grad(x).T, desc_d):\n",
    "        t = beta * t\n",
    "    return t, desc_d"
   ]
  },
  {
   "cell_type": "code",
   "execution_count": 7,
   "metadata": {},
   "outputs": [],
   "source": [
    "def constant(*args):\n",
    "    return 0.01"
   ]
  },
  {
   "cell_type": "code",
   "execution_count": 8,
   "metadata": {},
   "outputs": [],
   "source": [
    "class Newton:\n",
    "    def __init__(self, f, pas, epsilon=0.01):\n",
    "        self.epsilon = epsilon\n",
    "        self.f = f\n",
    "        self.pas = pas\n",
    "        self.save = np.array([])\n",
    "        self.dirs = np.array([])\n",
    "        \n",
    "    def __call__(self, x0):\n",
    "        self.save = []\n",
    "        self.dirs = []\n",
    "        x = x0\n",
    "        self.save.append(x)\n",
    "        dxN = -1 * np.dot(np.linalg.inv(self.f.hessian(x)), self.f.grad(x))\n",
    "        lmd = -1 * np.dot(self.f.grad(x).T, dxN)\n",
    "        while lmd / 2 > self.epsilon:\n",
    "            dxN = -1 * np.dot(np.linalg.inv(self.f.hessian(x)), self.f.grad(x))\n",
    "            lmd = -1 * np.dot(self.f.grad(x).T, dxN)\n",
    "            (t, dire) = self.pas(self.f, x)\n",
    "            self.dirs.append(dire)\n",
    "            x = x + t * dxN\n",
    "            self.save.append(x)\n",
    "        self.save = np.array(self.save)\n",
    "        self.dirs = np.array(self.dirs)\n",
    "        return x\n",
    "    \n",
    "    def plot(self):\n",
    "        if self.save.shape[0] == 0:\n",
    "            raise Exception(\"The Newton method algorithm has not been run\")\n",
    "        if self.f.dim == 1:\n",
    "            plt.figure(figsize=(15, 15))\n",
    "            x = np.linspace(-1 * self.save.max() - 5, self.save.max() + 5, 1000).reshape((1, -1))\n",
    "            plt.plot(x.reshape((-1)), self.f.value(x))\n",
    "            plt.scatter(self.save[:, 0], self.f.value(self.save[:, 0].reshape(1, -1)), 50, c=\"red\")\n",
    "            plt.grid()\n",
    "            plt.show()\n",
    "        elif self.f.dim == 2:\n",
    "            plt.figure(figsize=(15, 15))\n",
    "            x, y = np.linspace(-1 * self.save[:, 0].max() - 5, self.save[:, 0].max() + 5, 200), np.linspace(- 1 * self.save[:, 1].max() - 5, self.save[:, 1].max() + 5, 200)\n",
    "            X, Y = np.meshgrid(x, y)\n",
    "            x_y = np.vstack([X.reshape(1, -1), Y.reshape(1, -1)]).reshape(2, -1)\n",
    "            plt.contour(X, Y, self.f.value(x_y).reshape(200, -1), 15)\n",
    "            plt.scatter(self.save[:, 0], self.save[:, 1], 50, c=\"red\")\n",
    "            plt.grid()\n",
    "            plt.show()\n",
    "        else:\n",
    "            raise Exception(\"Dimension > 2 not implemented\")"
   ]
  },
  {
   "cell_type": "code",
   "execution_count": 9,
   "metadata": {},
   "outputs": [
    {
     "name": "stdout",
     "output_type": "stream",
     "text": [
      "[[-1.95e+02]\n",
      " [-3.90e+01]\n",
      " [-7.80e+00]\n",
      " [-1.56e+00]\n",
      " [-3.12e-01]\n",
      " [-6.24e-02]]\n"
     ]
    }
   ],
   "source": [
    "meth = Newton(f_1, backtracking)\n",
    "meth(np.array([100]))\n",
    "print(meth.dirs)"
   ]
  },
  {
   "cell_type": "markdown",
   "metadata": {},
   "source": [
    "# Descente de Gradient"
   ]
  },
  {
   "cell_type": "code",
   "execution_count": 10,
   "metadata": {},
   "outputs": [],
   "source": [
    "class GD():\n",
    "    \"\"\"Gradient Descent Object.\n",
    "    \n",
    "    Implements gradient descent aiming to compute optimal objective \n",
    "    value of convex functions and local optimal ones of none \n",
    "    convex functions.\n",
    "    \n",
    "    \"\"\"    \n",
    "    def __init__(self, ddir=None, rate=None, decay=None, tol=None, max_iter=None):\n",
    "        \"\"\"        \n",
    "        Instantiates a GD object.\n",
    "    \n",
    "        Attributes:\n",
    "        ddir: function computing descent direction.\n",
    "        rate: function computing learning rate ; takes in\n",
    "              - x (ndarray): current iterate\n",
    "              - f (function): objective function\n",
    "              - dir_x (ndarray) : descent direction\n",
    "              - grad (function) : gradient function\n",
    "              - nb_iter (int): number of iterations.\n",
    "              - eta (float): hyper-parameter.\n",
    "        decay: function computing decay.\n",
    "        tol: slack tolerance.\n",
    "        max_iter: upper bound on number of iterations.\n",
    "    \n",
    "        \"\"\"\n",
    "        self.ddir = ddir if ddir else (lambda x, f, grad, tol: - grad(x, f, tol))\n",
    "        self.rate = rate if rate else (lambda x, f, dir_x, grad, nb_iter, eta : 0.01)\n",
    "        self.decay = decay if decay else (lambda x, f, grad, tol: np.linalg.norm(grad(x, f, tol)))\n",
    "        self.tol = tol if tol else 1e-6\n",
    "        self.max_iter = max_iter if max_iter else 1000\n",
    "    \n",
    "    def __call__(self, x, f, grad, verbose=False):\n",
    "        \"\"\"Calling gradient descent object with specific starting point and optimal function.\n",
    "        \n",
    "        Args:\n",
    "            x: initial starting point for descent.\n",
    "            f: objective function of optimisation problem.\n",
    "            grad: function outputing gradient value of function f at a given point.\n",
    "        \n",
    "        Output:\n",
    "            (float) sub-optimal value up to tolerance if execution is proper.\n",
    "            (ndarray) list of gradient descent iterates.\n",
    "            (ndarray) list of graidents of iterates.\n",
    "            (int) number of iterations.\n",
    "            \n",
    "        \"\"\"\n",
    "        #x = x.reshape(1, -1)\n",
    "        eta = 0\n",
    "        n_iter = 0\n",
    "\n",
    "        dir_x = self.ddir(x, f, grad, self.tol)\n",
    "        rate_ = self.rate(x, f, dir_x, grad, n_iter, eta)\n",
    "        delta_x = rate_ * dir_x\n",
    "        iters, iters_dir = x, delta_x\n",
    "        \n",
    "        decay_x = self.decay(x, f, grad, self.tol)\n",
    "        while decay_x > self.tol and n_iter < self.max_iter:\n",
    "            ## Deciding on direction\n",
    "            dir_x = self.ddir(x, f, grad, self.tol)\n",
    "            rate_ = self.rate(x, f, dir_x, grad, n_iter, eta)\n",
    "            delta_x =  rate_ * dir_x\n",
    "            \n",
    "            # Storing iterates\n",
    "            iters = np.vstack([iters, x])\n",
    "            \n",
    "            ## Updating iterate\n",
    "            x = x + delta_x\n",
    "            \n",
    "            ## Storing directions\n",
    "            iters_dir = np.vstack([iters_dir, delta_x])\n",
    "            \n",
    "            ## Computing decay\n",
    "            decay_x = self.decay(x, f, grad, self.tol)\n",
    "            \n",
    "            ## Updating iteration number\n",
    "            n_iter += 1\n",
    "            \n",
    "        if decay_x > self.tol:\n",
    "            warnings.warn(\"Decay didn't get under tolerance rate.\", RuntimeWarning)\n",
    "        \n",
    "        if verbose:\n",
    "            msg = \" Iteration nu. = {}\\n approx. = {}\\n ob value = {}\\n and decay = {}.\"\n",
    "            print(msg.format(n_iter, x.flatten(), f(x), decay_x))\n",
    "        return (x, iters, iters_dir, n_iter)"
   ]
  },
  {
   "cell_type": "code",
   "execution_count": 11,
   "metadata": {},
   "outputs": [],
   "source": [
    "GD_default = GD()"
   ]
  },
  {
   "cell_type": "code",
   "execution_count": 12,
   "metadata": {},
   "outputs": [
    {
     "name": "stdout",
     "output_type": "stream",
     "text": [
      " Iteration nu. = 818\n",
      " approx. = [2.5000005]\n",
      " ob value = [-3.25]\n",
      " and decay = 9.977487120949036e-07.\n"
     ]
    }
   ],
   "source": [
    "op_pt, iters, iters_dir, n_iter = GD_default(np.array([10]), (lambda x : f_1.value ([x])),\n",
    "                                             (lambda x, f, tol : f_1.grad(x)), True)"
   ]
  },
  {
   "cell_type": "code",
   "execution_count": 13,
   "metadata": {},
   "outputs": [
    {
     "name": "stdout",
     "output_type": "stream",
     "text": [
      "[[-15.  ]\n",
      " [ -3.  ]\n",
      " [ -0.6 ]\n",
      " [ -0.12]]\n"
     ]
    }
   ],
   "source": [
    "newt = Newton(f_1, backtracking)\n",
    "newt(np.array([10]))\n",
    "print(newt.dirs)"
   ]
  },
  {
   "cell_type": "code",
   "execution_count": null,
   "metadata": {},
   "outputs": [],
   "source": []
  },
  {
   "cell_type": "code",
   "execution_count": 14,
   "metadata": {},
   "outputs": [
    {
     "name": "stdout",
     "output_type": "stream",
     "text": [
      "\n"
     ]
    },
    {
     "data": {
      "image/png": "[encoded data removed]",
      "text/plain": [
       "<Figure size 1152x720 with 1 Axes>"
      ]
     },
     "metadata": {
      "needs_background": "light"
     },
     "output_type": "display_data"
    }
   ],
   "source": [
    "fig, ax = plt.subplots(figsize=(16, 10))\n",
    "f = lambda x: f_1.value(x.reshape(1, -1))\n",
    "x = np.linspace(-10, 10, 600)\n",
    "ax.set_ylim(-50, 400)\n",
    "ax.plot(x, f(x), \"k-\", label=\"Objective function\")\n",
    "# reshaping iters for input\n",
    "iters_reshape = iters.reshape(iters.shape[0], 1)\n",
    "ax.plot(iters_reshape, f(iters_reshape), 'r.', label=\"Iterates gradient descent\")\n",
    "ax.quiver(iters_reshape, f(iters_reshape), iters_dir, -1, \n",
    "          color='r', scale=None, width=0.001, headwidth=4, headlength=10)\n",
    "\n",
    "ax.plot(newt.save, f(newt.save), 'b.', label=\"Iterates newton method\")\n",
    "ax.quiver(newt.save, f(newt.save), newt.dirs, -1, \n",
    "          color='b', scale=None, width=0.002, headwidth=4, headlength=10)\n",
    "\n",
    "ax.set_title(\"Comparison gradient descent and newton method in dimension 1.\")\n",
    "ax.legend()\n",
    "print()"
   ]
  },
  {
   "cell_type": "markdown",
   "metadata": {},
   "source": [
    "# Descente de Gradient avec Backtracking"
   ]
  },
  {
   "cell_type": "code",
   "execution_count": 15,
   "metadata": {},
   "outputs": [],
   "source": [
    "class backtrackingC():\n",
    "    \n",
    "    def __init__(self, alpha=0.01, beta=0.8, max_iter=100):\n",
    "        self.alpha = alpha\n",
    "        self.beta = beta\n",
    "        self.max_iter = max_iter\n",
    "        \n",
    "    def __call__(self, x, f, dir_x, grad, n_iter, eta, tol=1e-6):\n",
    "        n_while = 0\n",
    "        t = 1\n",
    "        #x = x.reshape(1, -1)\n",
    "        grad_f = grad(x, f, tol)\n",
    "        while f(x + t * dir_x) > f(x) + self.alpha * t * grad_f.dot(dir_x.T) and n_while < self.max_iter:\n",
    "            t = self.beta * t\n",
    "            n_while += 1\n",
    "        return t"
   ]
  },
  {
   "cell_type": "code",
   "execution_count": 16,
   "metadata": {},
   "outputs": [],
   "source": [
    "bt_rate = backtrackingC()"
   ]
  },
  {
   "cell_type": "code",
   "execution_count": 17,
   "metadata": {},
   "outputs": [
    {
     "data": {
      "text/plain": [
       "array([ 1.,  2.,  3.,  4.,  5.,  6.,  7.,  8.,  9., 10.])"
      ]
     },
     "execution_count": 17,
     "metadata": {},
     "output_type": "execute_result"
    }
   ],
   "source": [
    "gammas = np.linspace(1, 10, 10)\n",
    "gammas"
   ]
  },
  {
   "cell_type": "code",
   "execution_count": 18,
   "metadata": {},
   "outputs": [],
   "source": [
    "init_pt = np.array([1])"
   ]
  },
  {
   "cell_type": "code",
   "execution_count": 19,
   "metadata": {},
   "outputs": [],
   "source": [
    "def dsgd(x, f, grad, tol):\n",
    "    x = x.reshape(1, -1)\n",
    "    dim = x.shape[1]\n",
    "    sdescent = np.array([0]*dim, dtype=float).reshape(1, -1)\n",
    "    grad_f = grad(x, f, tol)\n",
    "    abs_grad = np.abs(grad_f)\n",
    "    imax_diff = np.argmax(abs_grad) \n",
    "    sdescent[0, imax_diff] = grad_f[0, imax_diff]\n",
    "    return (- sdescent)"
   ]
  },
  {
   "cell_type": "code",
   "execution_count": 20,
   "metadata": {},
   "outputs": [
    {
     "data": {
      "text/html": [
       "<div>\n",
       "<style scoped>\n",
       "    .dataframe tbody tr th:only-of-type {\n",
       "        vertical-align: middle;\n",
       "    }\n",
       "\n",
       "    .dataframe tbody tr th {\n",
       "        vertical-align: top;\n",
       "    }\n",
       "\n",
       "    .dataframe thead th {\n",
       "        text-align: right;\n",
       "    }\n",
       "</style>\n",
       "<table border=\"1\" class=\"dataframe\">\n",
       "  <thead>\n",
       "    <tr style=\"text-align: right;\">\n",
       "      <th></th>\n",
       "      <th>gamma</th>\n",
       "      <th>rate</th>\n",
       "      <th>optimal_pt</th>\n",
       "      <th>optimal_val</th>\n",
       "      <th>nb_iter</th>\n",
       "    </tr>\n",
       "  </thead>\n",
       "  <tbody>\n",
       "    <tr>\n",
       "      <th>quadra_1.0</th>\n",
       "      <td>1.0</td>\n",
       "      <td>backtracking</td>\n",
       "      <td>[2.4999996683891204]</td>\n",
       "      <td>-3.250000</td>\n",
       "      <td>30</td>\n",
       "    </tr>\n",
       "    <tr>\n",
       "      <th>quadra_2.0</th>\n",
       "      <td>2.0</td>\n",
       "      <td>backtracking</td>\n",
       "      <td>[1.2500002268920283]</td>\n",
       "      <td>-0.125000</td>\n",
       "      <td>31</td>\n",
       "    </tr>\n",
       "    <tr>\n",
       "      <th>quadra_3.0</th>\n",
       "      <td>3.0</td>\n",
       "      <td>backtracking</td>\n",
       "      <td>[0.8333331703668186]</td>\n",
       "      <td>0.916667</td>\n",
       "      <td>401</td>\n",
       "    </tr>\n",
       "    <tr>\n",
       "      <th>quadra_4.0</th>\n",
       "      <td>4.0</td>\n",
       "      <td>backtracking</td>\n",
       "      <td>[0.6249999033875625]</td>\n",
       "      <td>1.437500</td>\n",
       "      <td>39</td>\n",
       "    </tr>\n",
       "    <tr>\n",
       "      <th>quadra_5.0</th>\n",
       "      <td>5.0</td>\n",
       "      <td>backtracking</td>\n",
       "      <td>[0.500000087301781]</td>\n",
       "      <td>1.750000</td>\n",
       "      <td>40</td>\n",
       "    </tr>\n",
       "    <tr>\n",
       "      <th>quadra_6.0</th>\n",
       "      <td>6.0</td>\n",
       "      <td>backtracking</td>\n",
       "      <td>[0.4166667480291629]</td>\n",
       "      <td>1.958333</td>\n",
       "      <td>32</td>\n",
       "    </tr>\n",
       "    <tr>\n",
       "      <th>quadra_7.0</th>\n",
       "      <td>7.0</td>\n",
       "      <td>backtracking</td>\n",
       "      <td>[0.35714279262200394]</td>\n",
       "      <td>2.107143</td>\n",
       "      <td>125</td>\n",
       "    </tr>\n",
       "    <tr>\n",
       "      <th>quadra_8.0</th>\n",
       "      <td>8.0</td>\n",
       "      <td>backtracking</td>\n",
       "      <td>[0.3124999387673933]</td>\n",
       "      <td>2.218750</td>\n",
       "      <td>49</td>\n",
       "    </tr>\n",
       "    <tr>\n",
       "      <th>quadra_9.0</th>\n",
       "      <td>9.0</td>\n",
       "      <td>backtracking</td>\n",
       "      <td>[0.2777778304588404]</td>\n",
       "      <td>2.305556</td>\n",
       "      <td>236</td>\n",
       "    </tr>\n",
       "    <tr>\n",
       "      <th>quadra_10.0</th>\n",
       "      <td>10.0</td>\n",
       "      <td>backtracking</td>\n",
       "      <td>[0.25000004796095704]</td>\n",
       "      <td>2.375000</td>\n",
       "      <td>50</td>\n",
       "    </tr>\n",
       "  </tbody>\n",
       "</table>\n",
       "</div>"
      ],
      "text/plain": [
       "             gamma          rate             optimal_pt  optimal_val nb_iter\n",
       "quadra_1.0     1.0  backtracking   [2.4999996683891204]    -3.250000      30\n",
       "quadra_2.0     2.0  backtracking   [1.2500002268920283]    -0.125000      31\n",
       "quadra_3.0     3.0  backtracking   [0.8333331703668186]     0.916667     401\n",
       "quadra_4.0     4.0  backtracking   [0.6249999033875625]     1.437500      39\n",
       "quadra_5.0     5.0  backtracking    [0.500000087301781]     1.750000      40\n",
       "quadra_6.0     6.0  backtracking   [0.4166667480291629]     1.958333      32\n",
       "quadra_7.0     7.0  backtracking  [0.35714279262200394]     2.107143     125\n",
       "quadra_8.0     8.0  backtracking   [0.3124999387673933]     2.218750      49\n",
       "quadra_9.0     9.0  backtracking   [0.2777778304588404]     2.305556     236\n",
       "quadra_10.0   10.0  backtracking  [0.25000004796095704]     2.375000      50"
      ]
     },
     "execution_count": 20,
     "metadata": {},
     "output_type": "execute_result"
    }
   ],
   "source": [
    "GD_ri_bt = pd.DataFrame(columns=[\"gamma\", \"rate\", \"optimal_pt\", \"optimal_val\", \"nb_iter\"])\n",
    "GD_list_bt = {}\n",
    "for gamma in gammas:\n",
    "    GD_list_bt[\"quadra\"] = GD(rate = bt_rate)\n",
    "    opt_pt, _, _, n_iter = GD_list_bt[\"quadra\"](init_pt, \n",
    "                                                       (lambda x: f_1.value (x, gamma)), \n",
    "                                                       (lambda x, f, tol : f_1.grad(x, gamma)))\n",
    "    naming_format = \"{}_{}\".format(\"quadra\", gamma)\n",
    "    GD_ri_bt.loc[naming_format] = pd.Series({ \"gamma\": gamma, \n",
    "                                              \"rate\" : \"backtracking\",\n",
    "                                              \"optimal_pt\": opt_pt,\n",
    "                                              \"optimal_val\": f_1.value(opt_pt, gamma),\n",
    "                                              \"nb_iter\": n_iter })\n",
    "GD_ri_bt"
   ]
  },
  {
   "cell_type": "code",
   "execution_count": 21,
   "metadata": {},
   "outputs": [],
   "source": [
    "init_pt_d2 = np.array([2, 2])"
   ]
  },
  {
   "cell_type": "code",
   "execution_count": 22,
   "metadata": {},
   "outputs": [
    {
     "data": {
      "text/plain": [
       "array([2, 2])"
      ]
     },
     "execution_count": 22,
     "metadata": {},
     "output_type": "execute_result"
    }
   ],
   "source": [
    "init_pt_d2"
   ]
  },
  {
   "cell_type": "code",
   "execution_count": 23,
   "metadata": {},
   "outputs": [
    {
     "name": "stderr",
     "output_type": "stream",
     "text": [
      "/home/heldhy/anaconda3/lib/python3.7/site-packages/ipykernel_launcher.py:80: RuntimeWarning: Decay didn't get under tolerance rate.\n"
     ]
    },
    {
     "data": {
      "text/html": [
       "<div>\n",
       "<style scoped>\n",
       "    .dataframe tbody tr th:only-of-type {\n",
       "        vertical-align: middle;\n",
       "    }\n",
       "\n",
       "    .dataframe tbody tr th {\n",
       "        vertical-align: top;\n",
       "    }\n",
       "\n",
       "    .dataframe thead th {\n",
       "        text-align: right;\n",
       "    }\n",
       "</style>\n",
       "<table border=\"1\" class=\"dataframe\">\n",
       "  <thead>\n",
       "    <tr style=\"text-align: right;\">\n",
       "      <th></th>\n",
       "      <th>gamma</th>\n",
       "      <th>rate</th>\n",
       "      <th>optimal_pt</th>\n",
       "      <th>optimal_val</th>\n",
       "      <th>nb_iter</th>\n",
       "    </tr>\n",
       "  </thead>\n",
       "  <tbody>\n",
       "    <tr>\n",
       "      <th>quadra_1.0</th>\n",
       "      <td>1.0</td>\n",
       "      <td>0.01</td>\n",
       "      <td>[3.2910091146424137e-07, 3.2910091146424137e-07]</td>\n",
       "      <td>2.166148e-13</td>\n",
       "      <td>70</td>\n",
       "    </tr>\n",
       "    <tr>\n",
       "      <th>quadra_2.0</th>\n",
       "      <td>2.0</td>\n",
       "      <td>0.01</td>\n",
       "      <td>[4.113761393303017e-07, 9.85068138182558e-16]</td>\n",
       "      <td>1.692303e-13</td>\n",
       "      <td>69</td>\n",
       "    </tr>\n",
       "    <tr>\n",
       "      <th>quadra_3.0</th>\n",
       "      <td>3.0</td>\n",
       "      <td>0.01</td>\n",
       "      <td>[4.113761393303017e-07, 6.968982874540769e-28]</td>\n",
       "      <td>1.692303e-13</td>\n",
       "      <td>69</td>\n",
       "    </tr>\n",
       "    <tr>\n",
       "      <th>quadra_4.0</th>\n",
       "      <td>4.0</td>\n",
       "      <td>0.01</td>\n",
       "      <td>[4.113761393303017e-07, 1.1805916207173949e-48]</td>\n",
       "      <td>1.692303e-13</td>\n",
       "      <td>69</td>\n",
       "    </tr>\n",
       "    <tr>\n",
       "      <th>quadra_5.0</th>\n",
       "      <td>5.0</td>\n",
       "      <td>0.01</td>\n",
       "      <td>[4.113761393303017e-07, 0.0]</td>\n",
       "      <td>1.692303e-13</td>\n",
       "      <td>69</td>\n",
       "    </tr>\n",
       "    <tr>\n",
       "      <th>quadra_6.0</th>\n",
       "      <td>6.0</td>\n",
       "      <td>0.01</td>\n",
       "      <td>[4.113761393303017e-07, -1.180591620717441e-48]</td>\n",
       "      <td>1.692303e-13</td>\n",
       "      <td>69</td>\n",
       "    </tr>\n",
       "    <tr>\n",
       "      <th>quadra_7.0</th>\n",
       "      <td>7.0</td>\n",
       "      <td>0.01</td>\n",
       "      <td>[4.113761393303017e-07, -6.968982874540931e-28]</td>\n",
       "      <td>1.692303e-13</td>\n",
       "      <td>69</td>\n",
       "    </tr>\n",
       "    <tr>\n",
       "      <th>quadra_8.0</th>\n",
       "      <td>8.0</td>\n",
       "      <td>0.01</td>\n",
       "      <td>[4.113761393303017e-07, -9.850681381825706e-16]</td>\n",
       "      <td>1.692303e-13</td>\n",
       "      <td>69</td>\n",
       "    </tr>\n",
       "    <tr>\n",
       "      <th>quadra_9.0</th>\n",
       "      <td>9.0</td>\n",
       "      <td>0.01</td>\n",
       "      <td>[5.521397077432454e-08, 5.5213970774325126e-08]</td>\n",
       "      <td>3.048583e-14</td>\n",
       "      <td>78</td>\n",
       "    </tr>\n",
       "    <tr>\n",
       "      <th>quadra_10.0</th>\n",
       "      <td>10.0</td>\n",
       "      <td>0.01</td>\n",
       "      <td>[2.4604638443222403e-97, 2.0]</td>\n",
       "      <td>4.000000e+01</td>\n",
       "      <td>1000</td>\n",
       "    </tr>\n",
       "  </tbody>\n",
       "</table>\n",
       "</div>"
      ],
      "text/plain": [
       "             gamma  rate                                        optimal_pt  \\\n",
       "quadra_1.0     1.0  0.01  [3.2910091146424137e-07, 3.2910091146424137e-07]   \n",
       "quadra_2.0     2.0  0.01     [4.113761393303017e-07, 9.85068138182558e-16]   \n",
       "quadra_3.0     3.0  0.01    [4.113761393303017e-07, 6.968982874540769e-28]   \n",
       "quadra_4.0     4.0  0.01   [4.113761393303017e-07, 1.1805916207173949e-48]   \n",
       "quadra_5.0     5.0  0.01                      [4.113761393303017e-07, 0.0]   \n",
       "quadra_6.0     6.0  0.01   [4.113761393303017e-07, -1.180591620717441e-48]   \n",
       "quadra_7.0     7.0  0.01   [4.113761393303017e-07, -6.968982874540931e-28]   \n",
       "quadra_8.0     8.0  0.01   [4.113761393303017e-07, -9.850681381825706e-16]   \n",
       "quadra_9.0     9.0  0.01   [5.521397077432454e-08, 5.5213970774325126e-08]   \n",
       "quadra_10.0   10.0  0.01                     [2.4604638443222403e-97, 2.0]   \n",
       "\n",
       "              optimal_val nb_iter  \n",
       "quadra_1.0   2.166148e-13      70  \n",
       "quadra_2.0   1.692303e-13      69  \n",
       "quadra_3.0   1.692303e-13      69  \n",
       "quadra_4.0   1.692303e-13      69  \n",
       "quadra_5.0   1.692303e-13      69  \n",
       "quadra_6.0   1.692303e-13      69  \n",
       "quadra_7.0   1.692303e-13      69  \n",
       "quadra_8.0   1.692303e-13      69  \n",
       "quadra_9.0   3.048583e-14      78  \n",
       "quadra_10.0  4.000000e+01    1000  "
      ]
     },
     "execution_count": 23,
     "metadata": {},
     "output_type": "execute_result"
    }
   ],
   "source": [
    "GD_ri_2 = pd.DataFrame(columns=[\"gamma\", \"rate\", \"optimal_pt\", \"optimal_val\", \"nb_iter\", \"iters\", \"iters_dir\"])\n",
    "GD_list_2 = {}\n",
    "for gamma in gammas:\n",
    "    GD_list_2[\"quadra\"] = GD(rate = lambda x, f, dir_x, grad, nb_iter, eta : 0.1)\n",
    "    opt_pt, iters, iters_dir, n_iter = GD_list_2[\"quadra\"](init_pt_d2, \n",
    "                                                 (lambda x: f_2.value (x, gamma)), \n",
    "                                                 (lambda x, f, tol : f_2.grad(x, gamma)))\n",
    "    naming_format = \"{}_{}\".format(\"quadra\", gamma)\n",
    "    GD_ri_2.loc[naming_format] = pd.Series({ \"gamma\": gamma, \n",
    "                                             \"rate\" : 0.01,\n",
    "                                             \"optimal_pt\": opt_pt,\n",
    "                                             \"optimal_val\": f_2.value(opt_pt, gamma),\n",
    "                                             \"nb_iter\": n_iter,\n",
    "                                             \"iters\": iters,\n",
    "                                             \"iters_dir\": iters_dir})\n",
    "GD_ri_2.loc[:, \"gamma\": \"nb_iter\"]"
   ]
  },
  {
   "cell_type": "code",
   "execution_count": 27,
   "metadata": {},
   "outputs": [
    {
     "ename": "IndexError",
     "evalue": "index 1 is out of bounds for axis 0 with size 1",
     "output_type": "error",
     "traceback": [
      "\u001b[0;31m---------------------------------------------------------------------------\u001b[0m",
      "\u001b[0;31mIndexError\u001b[0m                                Traceback (most recent call last)",
      "\u001b[0;32m<ipython-input-27-23af51d20602>\u001b[0m in \u001b[0;36m<module>\u001b[0;34m\u001b[0m\n\u001b[0;32m----> 1\u001b[0;31m \u001b[0mf_2\u001b[0m\u001b[0;34m.\u001b[0m\u001b[0mvalue\u001b[0m\u001b[0;34m(\u001b[0m\u001b[0mx_y\u001b[0m\u001b[0;34m)\u001b[0m\u001b[0;34m\u001b[0m\u001b[0;34m\u001b[0m\u001b[0m\n\u001b[0m",
      "\u001b[0;32m<ipython-input-5-48e9bc8d06ac>\u001b[0m in \u001b[0;36m<lambda>\u001b[0;34m(x, gamma)\u001b[0m\n\u001b[1;32m      1\u001b[0m f_2_d = {\n\u001b[1;32m      2\u001b[0m     \u001b[0;34m\"dim\"\u001b[0m\u001b[0;34m:\u001b[0m \u001b[0;36m2\u001b[0m\u001b[0;34m,\u001b[0m\u001b[0;34m\u001b[0m\u001b[0;34m\u001b[0m\u001b[0m\n\u001b[0;32m----> 3\u001b[0;31m     \u001b[0;34m\"value\"\u001b[0m\u001b[0;34m:\u001b[0m \u001b[0;32mlambda\u001b[0m \u001b[0mx\u001b[0m\u001b[0;34m,\u001b[0m \u001b[0mgamma\u001b[0m\u001b[0;34m=\u001b[0m\u001b[0;36m1\u001b[0m\u001b[0;34m:\u001b[0m \u001b[0mx\u001b[0m\u001b[0;34m[\u001b[0m\u001b[0;36m0\u001b[0m\u001b[0;34m]\u001b[0m\u001b[0;34m**\u001b[0m\u001b[0;36m2\u001b[0m \u001b[0;34m+\u001b[0m \u001b[0mgamma\u001b[0m\u001b[0;34m*\u001b[0m\u001b[0mx\u001b[0m\u001b[0;34m[\u001b[0m\u001b[0;36m1\u001b[0m\u001b[0;34m]\u001b[0m\u001b[0;34m**\u001b[0m\u001b[0;36m2\u001b[0m\u001b[0;34m,\u001b[0m\u001b[0;34m\u001b[0m\u001b[0;34m\u001b[0m\u001b[0m\n\u001b[0m\u001b[1;32m      4\u001b[0m     \u001b[0;34m\"grad\"\u001b[0m\u001b[0;34m:\u001b[0m \u001b[0;32mlambda\u001b[0m \u001b[0mx\u001b[0m\u001b[0;34m,\u001b[0m \u001b[0mgamma\u001b[0m\u001b[0;34m=\u001b[0m\u001b[0;36m1\u001b[0m\u001b[0;34m:\u001b[0m \u001b[0mnp\u001b[0m\u001b[0;34m.\u001b[0m\u001b[0marray\u001b[0m\u001b[0;34m(\u001b[0m\u001b[0;34m[\u001b[0m\u001b[0;36m2\u001b[0m\u001b[0;34m*\u001b[0m\u001b[0mx\u001b[0m\u001b[0;34m[\u001b[0m\u001b[0;36m0\u001b[0m\u001b[0;34m]\u001b[0m\u001b[0;34m,\u001b[0m \u001b[0;36m2\u001b[0m\u001b[0;34m*\u001b[0m\u001b[0mgamma\u001b[0m\u001b[0;34m*\u001b[0m\u001b[0mx\u001b[0m\u001b[0;34m[\u001b[0m\u001b[0;36m1\u001b[0m\u001b[0;34m]\u001b[0m\u001b[0;34m]\u001b[0m\u001b[0;34m)\u001b[0m\u001b[0;34m,\u001b[0m\u001b[0;34m\u001b[0m\u001b[0;34m\u001b[0m\u001b[0m\n\u001b[1;32m      5\u001b[0m     \u001b[0;34m\"hessian\"\u001b[0m\u001b[0;34m:\u001b[0m \u001b[0;32mlambda\u001b[0m \u001b[0mx\u001b[0m\u001b[0;34m,\u001b[0m \u001b[0mgamma\u001b[0m\u001b[0;34m=\u001b[0m\u001b[0;36m1\u001b[0m\u001b[0;34m:\u001b[0m \u001b[0mnp\u001b[0m\u001b[0;34m.\u001b[0m\u001b[0mdiag\u001b[0m\u001b[0;34m(\u001b[0m\u001b[0;34m[\u001b[0m\u001b[0;36m2\u001b[0m\u001b[0;34m,\u001b[0m \u001b[0;36m2\u001b[0m\u001b[0;34m*\u001b[0m\u001b[0mgamma\u001b[0m\u001b[0;34m]\u001b[0m\u001b[0;34m)\u001b[0m\u001b[0;34m\u001b[0m\u001b[0;34m\u001b[0m\u001b[0m\n",
      "\u001b[0;31mIndexError\u001b[0m: index 1 is out of bounds for axis 0 with size 1"
     ]
    }
   ],
   "source": [
    "f_2.value(x_y)"
   ]
  },
  {
   "cell_type": "code",
   "execution_count": 35,
   "metadata": {},
   "outputs": [
    {
     "data": {
      "text/plain": [
       "[[2], [2]]"
      ]
     },
     "execution_count": 35,
     "metadata": {},
     "output_type": "execute_result"
    }
   ],
   "source": [
    "x_y"
   ]
  },
  {
   "cell_type": "code",
   "execution_count": 34,
   "metadata": {},
   "outputs": [
    {
     "ename": "TypeError",
     "evalue": "unsupported operand type(s) for ** or pow(): 'list' and 'int'",
     "output_type": "error",
     "traceback": [
      "\u001b[0;31m---------------------------------------------------------------------------\u001b[0m",
      "\u001b[0;31mTypeError\u001b[0m                                 Traceback (most recent call last)",
      "\u001b[0;32m<ipython-input-34-1ff2b9f6e88e>\u001b[0m in \u001b[0;36m<module>\u001b[0;34m\u001b[0m\n\u001b[1;32m     11\u001b[0m     \u001b[0max\u001b[0m\u001b[0;34m[\u001b[0m\u001b[0mi\u001b[0m\u001b[0;34m]\u001b[0m\u001b[0;34m.\u001b[0m\u001b[0mset_xlim\u001b[0m\u001b[0;34m(\u001b[0m\u001b[0mx_mi\u001b[0m\u001b[0;34m,\u001b[0m \u001b[0mx_ma\u001b[0m\u001b[0;34m)\u001b[0m\u001b[0;34m\u001b[0m\u001b[0;34m\u001b[0m\u001b[0m\n\u001b[1;32m     12\u001b[0m     \u001b[0max\u001b[0m\u001b[0;34m[\u001b[0m\u001b[0mi\u001b[0m\u001b[0;34m]\u001b[0m\u001b[0;34m.\u001b[0m\u001b[0mset_ylim\u001b[0m\u001b[0;34m(\u001b[0m\u001b[0my_mi\u001b[0m\u001b[0;34m,\u001b[0m \u001b[0my_ma\u001b[0m\u001b[0;34m)\u001b[0m\u001b[0;34m\u001b[0m\u001b[0;34m\u001b[0m\u001b[0m\n\u001b[0;32m---> 13\u001b[0;31m     \u001b[0max\u001b[0m\u001b[0;34m[\u001b[0m\u001b[0mi\u001b[0m\u001b[0;34m]\u001b[0m\u001b[0;34m.\u001b[0m\u001b[0mcontour\u001b[0m\u001b[0;34m(\u001b[0m\u001b[0mX\u001b[0m\u001b[0;34m,\u001b[0m \u001b[0mY\u001b[0m\u001b[0;34m,\u001b[0m \u001b[0mf_2\u001b[0m\u001b[0;34m.\u001b[0m\u001b[0mvalue\u001b[0m\u001b[0;34m(\u001b[0m\u001b[0mx_y\u001b[0m\u001b[0;34m,\u001b[0m \u001b[0mgammas\u001b[0m\u001b[0;34m[\u001b[0m\u001b[0mi\u001b[0m\u001b[0;34m]\u001b[0m\u001b[0;34m)\u001b[0m\u001b[0;34m.\u001b[0m\u001b[0mreshape\u001b[0m\u001b[0;34m(\u001b[0m\u001b[0mnb_pts\u001b[0m\u001b[0;34m,\u001b[0m \u001b[0;34m-\u001b[0m\u001b[0;36m1\u001b[0m\u001b[0;34m)\u001b[0m\u001b[0;34m,\u001b[0m \u001b[0;36m15\u001b[0m\u001b[0;34m)\u001b[0m\u001b[0;34m\u001b[0m\u001b[0;34m\u001b[0m\u001b[0m\n\u001b[0m\u001b[1;32m     14\u001b[0m     ax[i].quiver(GD_ri_2.loc[\"quadric_2_{}\".format(gammas[i]), \"iters\"][:, 0], \n\u001b[1;32m     15\u001b[0m                  \u001b[0mGD_ri_2\u001b[0m\u001b[0;34m.\u001b[0m\u001b[0mloc\u001b[0m\u001b[0;34m[\u001b[0m\u001b[0;34m\"quadric_2_{}\"\u001b[0m\u001b[0;34m.\u001b[0m\u001b[0mformat\u001b[0m\u001b[0;34m(\u001b[0m\u001b[0mgammas\u001b[0m\u001b[0;34m[\u001b[0m\u001b[0mi\u001b[0m\u001b[0;34m]\u001b[0m\u001b[0;34m)\u001b[0m\u001b[0;34m,\u001b[0m \u001b[0;34m\"iters\"\u001b[0m\u001b[0;34m]\u001b[0m\u001b[0;34m[\u001b[0m\u001b[0;34m:\u001b[0m\u001b[0;34m,\u001b[0m \u001b[0;36m1\u001b[0m\u001b[0;34m]\u001b[0m\u001b[0;34m,\u001b[0m\u001b[0;34m\u001b[0m\u001b[0;34m\u001b[0m\u001b[0m\n",
      "\u001b[0;32m<ipython-input-5-48e9bc8d06ac>\u001b[0m in \u001b[0;36m<lambda>\u001b[0;34m(x, gamma)\u001b[0m\n\u001b[1;32m      1\u001b[0m f_2_d = {\n\u001b[1;32m      2\u001b[0m     \u001b[0;34m\"dim\"\u001b[0m\u001b[0;34m:\u001b[0m \u001b[0;36m2\u001b[0m\u001b[0;34m,\u001b[0m\u001b[0;34m\u001b[0m\u001b[0;34m\u001b[0m\u001b[0m\n\u001b[0;32m----> 3\u001b[0;31m     \u001b[0;34m\"value\"\u001b[0m\u001b[0;34m:\u001b[0m \u001b[0;32mlambda\u001b[0m \u001b[0mx\u001b[0m\u001b[0;34m,\u001b[0m \u001b[0mgamma\u001b[0m\u001b[0;34m=\u001b[0m\u001b[0;36m1\u001b[0m\u001b[0;34m:\u001b[0m \u001b[0mx\u001b[0m\u001b[0;34m[\u001b[0m\u001b[0;36m0\u001b[0m\u001b[0;34m]\u001b[0m\u001b[0;34m**\u001b[0m\u001b[0;36m2\u001b[0m \u001b[0;34m+\u001b[0m \u001b[0mgamma\u001b[0m\u001b[0;34m*\u001b[0m\u001b[0mx\u001b[0m\u001b[0;34m[\u001b[0m\u001b[0;36m1\u001b[0m\u001b[0;34m]\u001b[0m\u001b[0;34m**\u001b[0m\u001b[0;36m2\u001b[0m\u001b[0;34m,\u001b[0m\u001b[0;34m\u001b[0m\u001b[0;34m\u001b[0m\u001b[0m\n\u001b[0m\u001b[1;32m      4\u001b[0m     \u001b[0;34m\"grad\"\u001b[0m\u001b[0;34m:\u001b[0m \u001b[0;32mlambda\u001b[0m \u001b[0mx\u001b[0m\u001b[0;34m,\u001b[0m \u001b[0mgamma\u001b[0m\u001b[0;34m=\u001b[0m\u001b[0;36m1\u001b[0m\u001b[0;34m:\u001b[0m \u001b[0mnp\u001b[0m\u001b[0;34m.\u001b[0m\u001b[0marray\u001b[0m\u001b[0;34m(\u001b[0m\u001b[0;34m[\u001b[0m\u001b[0;36m2\u001b[0m\u001b[0;34m*\u001b[0m\u001b[0mx\u001b[0m\u001b[0;34m[\u001b[0m\u001b[0;36m0\u001b[0m\u001b[0;34m]\u001b[0m\u001b[0;34m,\u001b[0m \u001b[0;36m2\u001b[0m\u001b[0;34m*\u001b[0m\u001b[0mgamma\u001b[0m\u001b[0;34m*\u001b[0m\u001b[0mx\u001b[0m\u001b[0;34m[\u001b[0m\u001b[0;36m1\u001b[0m\u001b[0;34m]\u001b[0m\u001b[0;34m]\u001b[0m\u001b[0;34m)\u001b[0m\u001b[0;34m,\u001b[0m\u001b[0;34m\u001b[0m\u001b[0;34m\u001b[0m\u001b[0m\n\u001b[1;32m      5\u001b[0m     \u001b[0;34m\"hessian\"\u001b[0m\u001b[0;34m:\u001b[0m \u001b[0;32mlambda\u001b[0m \u001b[0mx\u001b[0m\u001b[0;34m,\u001b[0m \u001b[0mgamma\u001b[0m\u001b[0;34m=\u001b[0m\u001b[0;36m1\u001b[0m\u001b[0;34m:\u001b[0m \u001b[0mnp\u001b[0m\u001b[0;34m.\u001b[0m\u001b[0mdiag\u001b[0m\u001b[0;34m(\u001b[0m\u001b[0;34m[\u001b[0m\u001b[0;36m2\u001b[0m\u001b[0;34m,\u001b[0m \u001b[0;36m2\u001b[0m\u001b[0;34m*\u001b[0m\u001b[0mgamma\u001b[0m\u001b[0;34m]\u001b[0m\u001b[0;34m)\u001b[0m\u001b[0;34m\u001b[0m\u001b[0;34m\u001b[0m\u001b[0m\n",
      "\u001b[0;31mTypeError\u001b[0m: unsupported operand type(s) for ** or pow(): 'list' and 'int'"
     ]
    },
    {
     "data": {
      "image/png": "[encoded data removed]",
      "text/plain": [
       "<Figure size 1080x2160 with 2 Axes>"
      ]
     },
     "metadata": {
      "needs_background": "light"
     },
     "output_type": "display_data"
    }
   ],
   "source": [
    "nb_pts, x_mi, x_ma, y_mi, y_ma = 200, -2, 2, -2, 2\n",
    "fig, ax = plt.subplots(2, 1, figsize=(15, 30))\n",
    "x, y = np.linspace(x_mi, x_ma, nb_pts), np.linspace(x_mi, x_ma, nb_pts)\n",
    "X, Y = np.meshgrid(x, y)\n",
    "## Reshaping X, Y for proper evaluation by input function\n",
    "x_y = np.vstack([X.reshape(1, -1), Y.reshape(1, -1)]).reshape(1, 2, -1)\n",
    "x_y = [[2],[2]]\n",
    "## Plotting level curves for extreme cases\n",
    "extreme_cases = [gammas[0], gammas[-1]]\n",
    "for i in range(len(extreme_cases)):\n",
    "    ax[i].set_xlim(x_mi, x_ma)\n",
    "    ax[i].set_ylim(y_mi, y_ma)\n",
    "    ax[i].contour(X, Y, f_2.value(x_y, gammas[i]).reshape(nb_pts, -1), 15)\n",
    "    ax[i].quiver(GD_ri_2.loc[\"quadric_2_{}\".format(gammas[i]), \"iters\"][:, 0], \n",
    "                 GD_ri_2.loc[\"quadric_2_{}\".format(gammas[i]), \"iters\"][:, 1], \n",
    "                 GD_ri_2.loc[\"quadric_2_{}\".format(gammas[i]), \"iters_dir\"][:, 0], \n",
    "                 GD_ri_2.loc[\"quadric_2_{}\".format(gammas[i]), \"iters_dir\"][:, 1],\n",
    "                 color='b', scale=6, width=0.002, headwidth=4, headlength=5)\n",
    "    ax[i].plot(GD_ri_2.loc[\"quadric_2_{}\".format(gammas[i]), \"iters\"][:, 0], \n",
    "               GD_ri_2.loc[\"quadric_2_{}\".format(gammas[i]), \"iters\"][:, 1],\n",
    "               'b.')"
   ]
  },
  {
   "cell_type": "code",
   "execution_count": null,
   "metadata": {},
   "outputs": [],
   "source": []
  },
  {
   "cell_type": "code",
   "execution_count": null,
   "metadata": {},
   "outputs": [],
   "source": []
  }
 ],
 "metadata": {
  "kernelspec": {
   "display_name": "Python 3",
   "language": "python",
   "name": "python3"
  },
  "language_info": {
   "codemirror_mode": {
    "name": "ipython",
    "version": 3
   },
   "file_extension": ".py",
   "mimetype": "text/x-python",
   "name": "python",
   "nbconvert_exporter": "python",
   "pygments_lexer": "ipython3",
   "version": "3.7.3"
  }
 },
 "nbformat": 4,
 "nbformat_minor": 2
}
