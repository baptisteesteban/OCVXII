{
 "cells": [
  {
   "cell_type": "code",
   "execution_count": 29,
   "metadata": {},
   "outputs": [],
   "source": [
    "import math\n",
    "import numpy as np\n",
    "from matplotlib import pyplot as plt\n",
    "import seaborn as sns"
   ]
  },
  {
   "cell_type": "code",
   "execution_count": 30,
   "metadata": {},
   "outputs": [],
   "source": [
    "class function:\n",
    "    def __init__(self, dim, value, grad, hessian):\n",
    "        self.dim = dim\n",
    "        self.value = value\n",
    "        self.grad = grad\n",
    "        self.hessian = hessian"
   ]
  },
  {
   "cell_type": "code",
   "execution_count": 31,
   "metadata": {},
   "outputs": [],
   "source": [
    "class probleme:\n",
    "    def __init__(self, f):\n",
    "        self.f = f\n",
    "        \n",
    "    def __call__(self, x):\n",
    "        return self.f.value(x)"
   ]
  },
  {
   "cell_type": "code",
   "execution_count": 32,
   "metadata": {},
   "outputs": [],
   "source": [
    "f_d = {\n",
    "    \"dim\": 1,\n",
    "    \"value\": lambda x: x[0]**2 - 5 * x[0] + 3,\n",
    "    \"grad\": lambda x: np.array([2*x[0] - 5]),\n",
    "    \"hessian\": lambda x: np.diag([2])\n",
    "}\n",
    "f_1 = function(**f_d)\n",
    "P = probleme(f_1)"
   ]
  },
  {
   "cell_type": "code",
   "execution_count": 33,
   "metadata": {},
   "outputs": [],
   "source": [
    "f_2_d = {\n",
    "    \"dim\": 2,\n",
    "    \"value\": lambda x: x[0]**2 + x[1]**2,\n",
    "    \"grad\": lambda x: np.array([2*x[0], 2*x[1]]),\n",
    "    \"hessian\": lambda x: np.diag([2, 2])\n",
    "}\n",
    "\n",
    "f_2 = function(**f_2_d)"
   ]
  },
  {
   "cell_type": "markdown",
   "metadata": {},
   "source": [
    "# Méthode de Newton"
   ]
  },
  {
   "cell_type": "code",
   "execution_count": 34,
   "metadata": {},
   "outputs": [],
   "source": [
    "def backtracking(f, x, alpha=0.1, beta=0.8):\n",
    "    t = 1\n",
    "    desc_d = -1 * f.grad(x)\n",
    "    while f.value(x + desc_d * t) > f.value(x) + alpha * t * np.dot(f.grad(x).T, desc_d):\n",
    "        t = beta * t\n",
    "    return t, desc_d"
   ]
  },
  {
   "cell_type": "code",
   "execution_count": 35,
   "metadata": {},
   "outputs": [],
   "source": [
    "def constant(*args):\n",
    "    return 0.01"
   ]
  },
  {
   "cell_type": "code",
   "execution_count": 37,
   "metadata": {},
   "outputs": [],
   "source": [
    "class Newton:\n",
    "    def __init__(self, f, pas, epsilon=0.01):\n",
    "        self.epsilon = epsilon\n",
    "        self.f = f\n",
    "        self.pas = pas\n",
    "        self.save = np.array([])\n",
    "        self.dirs = np.array([])\n",
    "        \n",
    "    def __call__(self, x0):\n",
    "        self.save = []\n",
    "        self.dirs = []\n",
    "        x = x0\n",
    "        self.save.append(x)\n",
    "        dxN = -1 * np.dot(np.linalg.inv(self.f.hessian(x)), self.f.grad(x))\n",
    "        lmd = -1 * np.dot(self.f.grad(x).T, dxN)\n",
    "        while lmd / 2 > self.epsilon:\n",
    "            dxN = -1 * np.dot(np.linalg.inv(self.f.hessian(x)), self.f.grad(x))\n",
    "            lmd = -1 * np.dot(self.f.grad(x).T, dxN)\n",
    "            (t, dire) = self.pas(self.f, x)\n",
    "            self.dirs.append(dire)\n",
    "            x = x + t * dxN\n",
    "            self.save.append(x)\n",
    "        self.save = np.array(self.save)\n",
    "        self.dirs = np.array(self.dirs)\n",
    "        return x\n",
    "    \n",
    "    def plot(self):\n",
    "        if self.save.shape[0] == 0:\n",
    "            raise Exception(\"The Newton method algorithm has not been run\")\n",
    "        if self.f.dim == 1:\n",
    "            plt.figure(figsize=(15, 15))\n",
    "            x = np.linspace(-1 * self.save.max() - 5, self.save.max() + 5, 1000).reshape((1, -1))\n",
    "            plt.plot(x.reshape((-1)), self.f.value(x))\n",
    "            plt.scatter(self.save[:, 0], self.f.value(self.save[:, 0].reshape(1, -1)), 50, c=\"red\")\n",
    "            plt.grid()\n",
    "            plt.show()\n",
    "        elif self.f.dim == 2:\n",
    "            plt.figure(figsize=(15, 15))\n",
    "            x, y = np.linspace(-1 * self.save[:, 0].max() - 5, self.save[:, 0].max() + 5, 200), np.linspace(- 1 * self.save[:, 1].max() - 5, self.save[:, 1].max() + 5, 200)\n",
    "            X, Y = np.meshgrid(x, y)\n",
    "            x_y = np.vstack([X.reshape(1, -1), Y.reshape(1, -1)]).reshape(2, -1)\n",
    "            plt.contour(X, Y, self.f.value(x_y).reshape(200, -1), 15)\n",
    "            plt.scatter(self.save[:, 0], self.save[:, 1], 50, c=\"red\")\n",
    "            plt.grid()\n",
    "            plt.show()\n",
    "        else:\n",
    "            raise Exception(\"Dimension > 2 not implemented\")"
   ]
  },
  {
   "cell_type": "code",
   "execution_count": 38,
   "metadata": {},
   "outputs": [
    {
     "name": "stdout",
     "output_type": "stream",
     "text": [
      "[[-1.95e+02]\n",
      " [-3.90e+01]\n",
      " [-7.80e+00]\n",
      " [-1.56e+00]\n",
      " [-3.12e-01]\n",
      " [-6.24e-02]]\n"
     ]
    }
   ],
   "source": [
    "meth = Newton(f_1, backtracking)\n",
    "meth(np.array([100]))\n",
    "print(meth.dirs)"
   ]
  },
  {
   "cell_type": "markdown",
   "metadata": {},
   "source": [
    "# Descente de Gradient"
   ]
  },
  {
   "cell_type": "code",
   "execution_count": 39,
   "metadata": {},
   "outputs": [],
   "source": [
    "class GD():\n",
    "    \"\"\"Gradient Descent Object.\n",
    "    \n",
    "    Implements gradient descent aiming to compute optimal objective \n",
    "    value of convex functions and local optimal ones of none \n",
    "    convex functions.\n",
    "    \n",
    "    \"\"\"    \n",
    "    def __init__(self, ddir=None, rate=None, decay=None, tol=None, max_iter=None):\n",
    "        \"\"\"        \n",
    "        Instantiates a GD object.\n",
    "    \n",
    "        Attributes:\n",
    "        ddir: function computing descent direction.\n",
    "        rate: function computing learning rate ; takes in\n",
    "              - x (ndarray): current iterate\n",
    "              - f (function): objective function\n",
    "              - dir_x (ndarray) : descent direction\n",
    "              - grad (function) : gradient function\n",
    "              - nb_iter (int): number of iterations.\n",
    "              - eta (float): hyper-parameter.\n",
    "        decay: function computing decay.\n",
    "        tol: slack tolerance.\n",
    "        max_iter: upper bound on number of iterations.\n",
    "    \n",
    "        \"\"\"\n",
    "        self.ddir = ddir if ddir else (lambda x, f, grad, tol: - grad(x, f, tol))\n",
    "        self.rate = rate if rate else (lambda x, f, dir_x, grad, nb_iter, eta : 0.01)\n",
    "        self.decay = decay if decay else (lambda x, f, grad, tol: np.linalg.norm(grad(x, f, tol)))\n",
    "        self.tol = tol if tol else 1e-6\n",
    "        self.max_iter = max_iter if max_iter else 1000\n",
    "    \n",
    "    def __call__(self, x, f, grad, verbose=False):\n",
    "        \"\"\"Calling gradient descent object with specific starting point and optimal function.\n",
    "        \n",
    "        Args:\n",
    "            x: initial starting point for descent.\n",
    "            f: objective function of optimisation problem.\n",
    "            grad: function outputing gradient value of function f at a given point.\n",
    "        \n",
    "        Output:\n",
    "            (float) sub-optimal value up to tolerance if execution is proper.\n",
    "            (ndarray) list of gradient descent iterates.\n",
    "            (ndarray) list of graidents of iterates.\n",
    "            (int) number of iterations.\n",
    "            \n",
    "        \"\"\"\n",
    "        x = x.reshape(1, -1)\n",
    "        eta = 0\n",
    "        n_iter = 0\n",
    "\n",
    "        dir_x = self.ddir(x, f, grad, self.tol)\n",
    "        rate_ = self.rate(x, f, dir_x, grad, n_iter, eta)\n",
    "        delta_x = rate_ * dir_x\n",
    "        iters, iters_dir = x, delta_x\n",
    "        \n",
    "        decay_x = self.decay(x, f, grad, self.tol)\n",
    "        while decay_x > self.tol and n_iter < self.max_iter:\n",
    "            ## Deciding on direction\n",
    "            dir_x = self.ddir(x, f, grad, self.tol)\n",
    "            rate_ = self.rate(x, f, dir_x, grad, n_iter, eta)\n",
    "            delta_x =  rate_ * dir_x\n",
    "            \n",
    "            # Storing iterates\n",
    "            iters = np.vstack([iters, x])\n",
    "            \n",
    "            ## Updating iterate\n",
    "            x = x + delta_x\n",
    "            \n",
    "            ## Storing directions\n",
    "            iters_dir = np.vstack([iters_dir, delta_x])\n",
    "            \n",
    "            ## Computing decay\n",
    "            decay_x = self.decay(x, f, grad, self.tol)\n",
    "            \n",
    "            ## Updating iteration number\n",
    "            n_iter += 1\n",
    "            \n",
    "        if decay_x > self.tol:\n",
    "            warnings.warn(\"Decay didn't get under tolerance rate.\", RuntimeWarning)\n",
    "        \n",
    "        if verbose:\n",
    "            msg = \" Iteration nu. = {}\\n approx. = {}\\n ob value = {}\\n and decay = {}.\"\n",
    "            print(msg.format(n_iter, x.flatten(), f(x), decay_x))\n",
    "        \n",
    "        return (x, iters, iters_dir, n_iter)"
   ]
  },
  {
   "cell_type": "code",
   "execution_count": 40,
   "metadata": {},
   "outputs": [],
   "source": [
    "GD_default = GD()"
   ]
  },
  {
   "cell_type": "code",
   "execution_count": 41,
   "metadata": {},
   "outputs": [
    {
     "name": "stdout",
     "output_type": "stream",
     "text": [
      " Iteration nu. = 818\n",
      " approx. = [2.5000005]\n",
      " ob value = [[-3.25]]\n",
      " and decay = 9.977487120949036e-07.\n"
     ]
    }
   ],
   "source": [
    "op_pt, iters, iters_dir, n_iter = GD_default(np.array([10]), (lambda x : f_1.value ([x])),\n",
    "                                             (lambda x, f, tol : f_1.grad(x)), True)"
   ]
  },
  {
   "cell_type": "code",
   "execution_count": 42,
   "metadata": {},
   "outputs": [
    {
     "name": "stdout",
     "output_type": "stream",
     "text": [
      "[[-15.  ]\n",
      " [ -3.  ]\n",
      " [ -0.6 ]\n",
      " [ -0.12]]\n"
     ]
    }
   ],
   "source": [
    "newt = Newton(f_1, backtracking)\n",
    "newt(np.array([10]))\n",
    "print(newt.dirs)"
   ]
  },
  {
   "cell_type": "code",
   "execution_count": null,
   "metadata": {},
   "outputs": [],
   "source": []
  },
  {
   "cell_type": "code",
   "execution_count": 50,
   "metadata": {},
   "outputs": [
    {
     "name": "stdout",
     "output_type": "stream",
     "text": [
      "\n"
     ]
    },
    {
     "data": {
      "image/png": "[encoded data removed]",
      "text/plain": [
       "<Figure size 1152x720 with 1 Axes>"
      ]
     },
     "metadata": {
      "needs_background": "light"
     },
     "output_type": "display_data"
    }
   ],
   "source": [
    "fig, ax = plt.subplots(figsize=(16, 10))\n",
    "f = lambda x: f_1.value(x.reshape(1, -1))\n",
    "x = np.linspace(-10, 10, 600)\n",
    "ax.set_ylim(-50, 400)\n",
    "ax.plot(x, f(x), \"k-\", label=\"Objective function\")\n",
    "# reshaping iters for input\n",
    "iters_reshape = iters.reshape(iters.shape[0], 1)\n",
    "ax.plot(iters_reshape, f(iters_reshape), 'r.', label=\"Iterates gradient descent\")\n",
    "ax.quiver(iters_reshape, f(iters_reshape), iters_dir, -1, \n",
    "          color='r', scale=None, width=0.001, headwidth=4, headlength=10)\n",
    "\n",
    "ax.plot(newt.save, f(newt.save), 'b.', label=\"Iterates newton method\")\n",
    "ax.quiver(newt.save, f(newt.save), newt.dirs, -1, \n",
    "          color='b', scale=None, width=0.002, headwidth=4, headlength=10)\n",
    "\n",
    "ax.set_title(\"Comparison gradient descent and newton method in dimension 1.\")\n",
    "ax.legend()\n",
    "print()"
   ]
  },
  {
   "cell_type": "code",
   "execution_count": null,
   "metadata": {},
   "outputs": [],
   "source": []
  }
 ],
 "metadata": {
  "kernelspec": {
   "display_name": "Python 3",
   "language": "python",
   "name": "python3"
  },
  "language_info": {
   "codemirror_mode": {
    "name": "ipython",
    "version": 3
   },
   "file_extension": ".py",
   "mimetype": "text/x-python",
   "name": "python",
   "nbconvert_exporter": "python",
   "pygments_lexer": "ipython3",
   "version": "3.7.3"
  }
 },
 "nbformat": 4,
 "nbformat_minor": 2
}
