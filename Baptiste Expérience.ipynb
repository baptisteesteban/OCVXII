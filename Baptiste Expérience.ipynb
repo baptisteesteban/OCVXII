{
 "cells": [
  {
   "cell_type": "code",
   "execution_count": null,
   "metadata": {},
   "outputs": [],
   "source": [
    "import numpy as np\n",
    "import matplotlib.pyplot as plt\n",
    "\n",
    "from ocvx import Newton, Function, constant, backtracking, Probleme, EQNewton"
   ]
  },
  {
   "cell_type": "markdown",
   "metadata": {},
   "source": [
    "# Newton avec contrainte d'égalité"
   ]
  },
  {
   "cell_type": "code",
   "execution_count": null,
   "metadata": {},
   "outputs": [],
   "source": [
    "A = np.array([[1, 3]])\n",
    "b = np.array([1])\n",
    "f_d = {\n",
    "    \"value\": lambda x: x[0]**2 + x[1]**2,\n",
    "    \"dim\": 2,\n",
    "    \"grad\": lambda x: np.array([2 * x[0], 2 * x[1]]),\n",
    "    \"hessian\": lambda x: np.diag([2, 2])\n",
    "}\n",
    "P = Probleme(Function(**f_d), A, b)"
   ]
  },
  {
   "cell_type": "code",
   "execution_count": null,
   "metadata": {},
   "outputs": [],
   "source": [
    "meth = EQNewton(P, backtracking)\n",
    "meth(np.array([4, -1]))\n",
    "meth.plot()"
   ]
  }
 ],
 "metadata": {
  "kernelspec": {
   "display_name": "Python 3",
   "language": "python",
   "name": "python3"
  },
  "language_info": {
   "codemirror_mode": {
    "name": "ipython",
    "version": 3
   },
   "file_extension": ".py",
   "mimetype": "text/x-python",
   "name": "python",
   "nbconvert_exporter": "python",
   "pygments_lexer": "ipython3",
   "version": "3.7.4"
  }
 },
 "nbformat": 4,
 "nbformat_minor": 2
}
