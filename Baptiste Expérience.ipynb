{
 "cells": [
  {
   "cell_type": "code",
   "execution_count": null,
   "metadata": {},
   "outputs": [],
   "source": [
    "import numpy as np\n",
    "import matplotlib.pyplot as plt"
   ]
  },
  {
   "cell_type": "markdown",
   "metadata": {},
   "source": [
    "# Génération de problème d'optimisation"
   ]
  },
  {
   "cell_type": "code",
   "execution_count": null,
   "metadata": {},
   "outputs": [],
   "source": [
    "class function:\n",
    "    def __init__(self, dim, value, grad, hessian):\n",
    "        self.dim = dim\n",
    "        self.value = value\n",
    "        self.grad = grad\n",
    "        self.hessian = hessian"
   ]
  },
  {
   "cell_type": "code",
   "execution_count": null,
   "metadata": {},
   "outputs": [],
   "source": [
    "class probleme:\n",
    "    def __init__(self, f):\n",
    "        self.f = f\n",
    "        \n",
    "    def __call__(self, x):\n",
    "        return self.f.value(x)"
   ]
  },
  {
   "cell_type": "code",
   "execution_count": null,
   "metadata": {},
   "outputs": [],
   "source": [
    "f_d = {\n",
    "    \"dim\": 1,\n",
    "    \"value\": lambda x: x[0]**2 - 5 * x[0] + 3,\n",
    "    \"grad\": lambda x: np.array([2*x[0] - 5]),\n",
    "    \"hessian\": lambda x: np.diag([2])\n",
    "}\n",
    "f = function(**f_d)\n",
    "P = probleme(f)"
   ]
  },
  {
   "cell_type": "code",
   "execution_count": null,
   "metadata": {},
   "outputs": [],
   "source": [
    "f_2_d = {\n",
    "    \"dim\": 2,\n",
    "    \"value\": lambda x: x[0]**2 + x[1]**2,\n",
    "    \"grad\": lambda x: np.array([2*x[0], 2*x[1]]),\n",
    "    \"hessian\": lambda x: np.diag([2, 2])\n",
    "}\n",
    "\n",
    "f_2 = function(**f_2_d)"
   ]
  },
  {
   "cell_type": "markdown",
   "metadata": {},
   "source": [
    "# Méthode de Newton"
   ]
  },
  {
   "cell_type": "code",
   "execution_count": null,
   "metadata": {},
   "outputs": [],
   "source": [
    "def backtracking(f, x, alpha=0.1, beta=0.8):\n",
    "    t = 1\n",
    "    desc_d = -1 * f.grad(x)\n",
    "    while f.value(x + desc_d * t) > f.value(x) + alpha * t * np.dot(f.grad(x).T, desc_d):\n",
    "        t = beta * t\n",
    "    return t"
   ]
  },
  {
   "cell_type": "code",
   "execution_count": null,
   "metadata": {},
   "outputs": [],
   "source": [
    "def constant(*args):\n",
    "    return 0.01"
   ]
  },
  {
   "cell_type": "code",
   "execution_count": null,
   "metadata": {},
   "outputs": [],
   "source": [
    "class Newton:\n",
    "    def __init__(self, f, pas, epsilon=0.01):\n",
    "        self.epsilon = epsilon\n",
    "        self.f = f\n",
    "        self.pas = pas\n",
    "        self.save = np.array([])\n",
    "        \n",
    "    def __call__(self, x0):\n",
    "        self.save = []\n",
    "        x = x0\n",
    "        self.save.append(x)\n",
    "        dxN = -1 * np.dot(np.linalg.inv(self.f.hessian(x)), self.f.grad(x))\n",
    "        lmd = -1 * np.dot(self.f.grad(x).T, dxN)\n",
    "        while lmd / 2 > self.epsilon:\n",
    "            dxN = -1 * np.dot(np.linalg.inv(self.f.hessian(x)), self.f.grad(x))\n",
    "            lmd = -1 * np.dot(self.f.grad(x).T, dxN)\n",
    "            t = self.pas(f, x)\n",
    "            x = x + t * dxN\n",
    "            self.save.append(x)\n",
    "        self.save = np.array(self.save)\n",
    "        return x\n",
    "    \n",
    "    def plot(self):\n",
    "        if self.save.shape[0] == 0:\n",
    "            raise Exception(\"The Newton method algorithm has not been run\")\n",
    "        if self.f.dim == 1:\n",
    "            plt.figure(figsize=(15, 15))\n",
    "            x = np.linspace(self.save.min() - 5, self.save.max() + 5, 1000).reshape((1, -1))\n",
    "            plt.plot(x.reshape((-1)), self.f.value(x))\n",
    "            plt.plot(self.save[:, 0], np.zeros((self.save.shape[0])), \"rx\")\n",
    "            plt.show()\n",
    "        elif self.f.dim == 2:\n",
    "            plt.figure(figsize=(15, 15))\n",
    "            x, y = np.linspace(self.save[:, 0].min(), self.save[:, 1].max(), 200), np.linspace(self.save[:, 0].min(), self.save[:, 1].max(), 200)\n",
    "            X, Y = np.meshgrid(x, y)\n",
    "            x_y = np.vstack([X.reshape(1, -1), Y.reshape(1, -1)]).reshape(2, -1)\n",
    "            plt.contour(X, Y, self.f.value(x_y).reshape(200, -1), 15)\n",
    "            plt.plot(self.save[:, 0], self.save[:, 1], \"rx\")\n",
    "            plt.grid()\n",
    "            plt.show()\n",
    "        else:\n",
    "            raise Exception(\"Dimension > 2 not implemented\")"
   ]
  },
  {
   "cell_type": "code",
   "execution_count": null,
   "metadata": {},
   "outputs": [],
   "source": [
    "meth = Newton(f, backtracking)\n",
    "meth(np.array([100]))\n",
    "meth.plot()"
   ]
  }
 ],
 "metadata": {
  "kernelspec": {
   "display_name": "Python 3",
   "language": "python",
   "name": "python3"
  },
  "language_info": {
   "codemirror_mode": {
    "name": "ipython",
    "version": 3
   },
   "file_extension": ".py",
   "mimetype": "text/x-python",
   "name": "python",
   "nbconvert_exporter": "python",
   "pygments_lexer": "ipython3",
   "version": "3.7.4"
  }
 },
 "nbformat": 4,
 "nbformat_minor": 2
}
