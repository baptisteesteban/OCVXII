{
 "cells": [
  {
   "cell_type": "code",
   "execution_count": null,
   "metadata": {},
   "outputs": [],
   "source": [
    "import numpy as np\n",
    "import matplotlib.pyplot as plt"
   ]
  },
  {
   "cell_type": "markdown",
   "metadata": {},
   "source": [
    "# Génération de problème d'optimisation"
   ]
  },
  {
   "cell_type": "code",
   "execution_count": null,
   "metadata": {},
   "outputs": [],
   "source": [
    "class function:\n",
    "    def __init__(self, dim, value, grad, hessian):\n",
    "        self.dim = dim\n",
    "        self.value = value\n",
    "        self.grad = grad\n",
    "        self.hessian = hessian"
   ]
  },
  {
   "cell_type": "code",
   "execution_count": null,
   "metadata": {},
   "outputs": [],
   "source": [
    "class probleme:\n",
    "    def __init__(self, f):\n",
    "        self.f = f\n",
    "        \n",
    "    def __call__(self, x):\n",
    "        return self.f.value(x)"
   ]
  },
  {
   "cell_type": "code",
   "execution_count": null,
   "metadata": {},
   "outputs": [],
   "source": [
    "f_d = {\n",
    "    \"dim\": 1,\n",
    "    \"value\": lambda x: x[0]**2 - 5 * x[0] + 3,\n",
    "    \"grad\": lambda x: np.array([2*x[0] - 5]),\n",
    "    \"hessian\": lambda x: np.diag([2])\n",
    "}\n",
    "f = function(**f_d)\n",
    "P = probleme(f)"
   ]
  },
  {
   "cell_type": "code",
   "execution_count": null,
   "metadata": {},
   "outputs": [],
   "source": [
    "P([2])"
   ]
  },
  {
   "cell_type": "markdown",
   "metadata": {},
   "source": [
    "# Méthode de Newton"
   ]
  },
  {
   "cell_type": "code",
   "execution_count": null,
   "metadata": {},
   "outputs": [],
   "source": [
    "def newton_method(f, x0, epsilon=0.1):\n",
    "    save = []\n",
    "    x = x0\n",
    "    save.append(x)\n",
    "    dxN = -1 * np.dot(np.linalg.inv(f.hessian(x)), f.grad(x))\n",
    "    lmd = -1 * np.dot(f.grad(x).T, dxN)\n",
    "    while lmd / 2 > epsilon:\n",
    "        dxN = -1 * np.dot(np.linalg.inv(f.hessian(x)), f.grad(x))\n",
    "        lmd = -1 * np.dot(f.grad(x).T, dxN)\n",
    "        t = 0.5\n",
    "        x = x + t * dxN\n",
    "        save.append(x)\n",
    "    return x, np.array(save)"
   ]
  },
  {
   "cell_type": "code",
   "execution_count": null,
   "metadata": {},
   "outputs": [],
   "source": [
    "x, save = newton_method(f, [5], 0.1)"
   ]
  },
  {
   "cell_type": "code",
   "execution_count": null,
   "metadata": {},
   "outputs": [],
   "source": [
    "plt.figure(figsize=(15, 15))\n",
    "x = np.linspace(-6, 6, 1000).reshape((1, -1))\n",
    "plt.plot(x.reshape((-1)), f.value(x))\n",
    "save.shape\n",
    "plt.plot(save[:, 0], np.zeros((save.shape[0])), \"rx\")"
   ]
  },
  {
   "cell_type": "markdown",
   "metadata": {},
   "source": [
    "# Dimension 2"
   ]
  },
  {
   "cell_type": "code",
   "execution_count": null,
   "metadata": {},
   "outputs": [],
   "source": [
    "f_2_d = {\n",
    "    \"dim\": 2,\n",
    "    \"value\": lambda x: x[0]**2 + x[1]**2,\n",
    "    \"grad\": lambda x: np.array([2 * x[0], 2 * x[1]]),\n",
    "    \"hessian\": lambda x: np.diag([2, 2])\n",
    "}\n",
    "f_2 = function(**f_2_d)"
   ]
  },
  {
   "cell_type": "code",
   "execution_count": null,
   "metadata": {
    "scrolled": false
   },
   "outputs": [],
   "source": [
    "plt.figure(figsize=(15, 15))\n",
    "x, y = np.linspace(-2, 2, 200), np.linspace(-2, 2, 200)\n",
    "X, Y = np.meshgrid(x, y)\n",
    "\n",
    "x_y = np.vstack([X.reshape(1, -1), Y.reshape(1, -1)]).reshape(2, -1)\n",
    "plt.contour(X, Y, f_2.value(x_y).reshape(200, -1), 15)\n",
    "plt.grid()\n",
    "plt.show()"
   ]
  },
  {
   "cell_type": "code",
   "execution_count": null,
   "metadata": {},
   "outputs": [],
   "source": [
    "x, save = newton_method(f_2, np.array([2, 2]))\n",
    "\n",
    "plt.figure(figsize=(15, 15))\n",
    "x, y = np.linspace(-2, 2, 200), np.linspace(-2, 2, 200)\n",
    "X, Y = np.meshgrid(x, y)\n",
    "x_y = np.vstack([X.reshape(1, -1), Y.reshape(1, -1)]).reshape(2, -1)\n",
    "plt.contour(X, Y, f_2.value(x_y).reshape(200, -1), 15)\n",
    "plt.plot(save[:, 0], save[:, 1], \"rx\")\n",
    "plt.grid()\n",
    "plt.show()"
   ]
  }
 ],
 "metadata": {
  "kernelspec": {
   "display_name": "Python 3",
   "language": "python",
   "name": "python3"
  },
  "language_info": {
   "codemirror_mode": {
    "name": "ipython",
    "version": 3
   },
   "file_extension": ".py",
   "mimetype": "text/x-python",
   "name": "python",
   "nbconvert_exporter": "python",
   "pygments_lexer": "ipython3",
   "version": "3.7.4"
  }
 },
 "nbformat": 4,
 "nbformat_minor": 2
}
